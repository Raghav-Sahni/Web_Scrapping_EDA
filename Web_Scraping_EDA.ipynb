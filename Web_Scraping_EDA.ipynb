{
  "metadata": {
    "kernelspec": {
      "name": "python3",
      "display_name": "Python 3 (ipykernel)",
      "language": "python"
    },
    "colab": {
      "name": "Web_Scraping_EDA.ipynb",
      "provenance": [],
      "collapsed_sections": []
    },
    "accelerator": "GPU"
  },
  "nbformat": 4,
  "nbformat_minor": 0,
  "cells": [
    {
      "cell_type": "markdown",
      "metadata": {
        "id": "OTYDm_r5DXD8"
      },
      "source": [
        "<img src=\"https://drive.google.com/uc?export=view&id=1WpIuwT7ActKDLTILNYc4L1_2s20e8yMO\" width=300/> \n",
        "\n",
        "# DS-1: Data Science Basics\n",
        "## Homework 1: Who is the best singer ever?\n",
        "\n",
        "**DS-1 Cohort 2** <br>\n",
        "**Instructor: Prof. Igancio Becker, Dr. Pavlos Protopapas, Dr. Rahul Dave**<br>\n",
        "**Max Score: 100** <br>"
      ]
    },
    {
      "cell_type": "markdown",
      "metadata": {
        "id": "jJW4AgiiDXEA"
      },
      "source": [
        "## Name of people who have worked on this homework:"
      ]
    },
    {
      "cell_type": "markdown",
      "metadata": {
        "id": "fB31SPXoDXEA"
      },
      "source": [
        "## Instructions <a class=\"anchor\" id=\"instructions\"></a>"
      ]
    },
    {
      "cell_type": "markdown",
      "metadata": {
        "id": "5yRzVSXlDXEB"
      },
      "source": [
        "<hr style=\"height:2pt\">\n",
        "\n",
        "- This homework is a jupyter notebook. Download and work on it in your local machine.\n",
        "\n",
        "- This homework should be submitted in pairs.\n",
        "\n",
        "- Ensure you and your partner together have submitted the homework only once. Multiple submissions of the same work will be penalised and will cost you 2 points.\n",
        "\n",
        "- Please restart the kernel and run the entire notebook again before you submit.\n",
        "\n",
        "- Running cells out of order is a common pitfall in Jupyter Notebooks. To make sure your code works restart the kernel and run the whole notebook again before you submit. \n",
        "\n",
        "- To submit the homework, either one of you upload the working notebook on edStem and click the submit button on the bottom right corner.\n",
        "\n",
        "- Submit the homework well before the given deadline. Submissions after the deadline will not be graded.\n",
        "\n",
        "- We have tried to include all the libraries you may need to do the assignment in the imports statement at the top of this notebook. We strongly suggest that you use those and not others as we may not be familiar with them.\n",
        "\n",
        "- Comment your code well. This would help the graders in case there is any issue with the notebook while running. It is important to remember that the graders will not troubleshoot your code. \n",
        "\n",
        "- Please use .head() when viewing data. Do not submit a notebook that is **excessively long**. \n",
        "\n",
        "- In questions that require code to answer, such as \"calculate the $R^2$\", do not just output the value from a cell. Write a `print()` function that includes a reference to the calculated value, **not hardcoded**. For example: \n",
        "```\n",
        "print(f'The R^2 is {R:.4f}')\n",
        "```\n",
        "- Your plots should include clear labels for the $x$ and $y$ axes as well as a descriptive title (\"MSE plot\" is not a descriptive title; \"95 % confidence interval of coefficients of polynomial degree 5\" is).\n",
        "\n",
        "- **Ensure you make appropriate plots for all the questions it is applicable to, regardless of it being explicitly asked for.**\n",
        "\n",
        "<hr style=\"height:2pt\">"
      ]
    },
    {
      "cell_type": "code",
      "execution_count": null,
      "metadata": {
        "id": "OK6sGl2SDXEB"
      },
      "outputs": [],
      "source": [
        "#Import libraries\n",
        "%matplotlib inline\n",
        "import numpy as np\n",
        "import matplotlib.pyplot as plt\n",
        "import pandas as pd\n",
        "import time\n",
        "import json\n",
        "import re\n",
        "import requests\n",
        "from bs4 import BeautifulSoup\n",
        "from IPython.core.display import HTML\n",
        "import seaborn as sns\n",
        "import re\n",
        "import pickle"
      ]
    },
    {
      "cell_type": "markdown",
      "metadata": {
        "id": "hJs_TvM0DXED"
      },
      "source": [
        "# Part A: Constructing a year-song dataframe [30 points]\n",
        "\n",
        "**Question 1:** Scrape and Parse Wikipedia for Billboard's Top 100 songs starting from 1992 to 2021.\n",
        "\n",
        "**1.1** [3pts] Scrape Wikipedia's Billboard pages from 1992 to 2021.\n",
        "\n",
        "<details>\n",
        "<summary>\n",
        "<font size=\"3\" color=\"green\">\n",
        "<b>Click for Instructions</b>\n",
        "</font>\n",
        "</summary>\n",
        "\n",
        "- Use python's `requests` module to obtain (GET) the web pages at http://en.wikipedia.org/wiki/Billboard_Year-End_Hot_100_singles_of_1992, http://en.wikipedia.org/wiki/Billboard_Year-End_Hot_100_singles_of_1993 till http://en.wikipedia.org/wiki/Billboard_Year-End_Hot_100_singles_of_2021. \n",
        "\n",
        "\n",
        "- Store the text from your `requests` in a dictionary called `yearstext`. \n",
        "This dictionary should have as its keys the years (as integers from 1992 to 2021), and as values corresponding to these keys the text of the page being fetched. \n",
        "\n",
        "  So each entry in `yearstext` will look something like this:\n",
        "\n",
        "  <img src=\"https://drive.google.com/uc?export=view&id=1tOVPv_lVLOKtEnUgEvgxbWJlGvSKXcOZ\" width=1500/> \n",
        "\n",
        "  where the key is 1992 and the value is the HTML at http://en.wikipedia.org/wiki/Billboard_Year-End_Hot_100_singles_of_1992.\n",
        "\n",
        "\n",
        "*Hint:* Put your requests.get() in a `for` loop and use the `time.sleep` function to wait one second between requests, you do not want Wikipedia to think you are a marauding bot attempting to mount a denial-of-service attack.\n",
        "\n",
        "</details>\n",
        "\n",
        "\n",
        "**1.2** [12pts] Parse the HTML retrieved to extract ranking, song and artist information. \n",
        "\n",
        "<details>\n",
        "<summary>\n",
        "<font size=\"3\" color=\"green\">\n",
        "<b>Click for Instructions</b>\n",
        "</font>\n",
        "</summary>\n",
        "\n",
        "- Write a function `parse_year(year, yeartextdict)` that returns a dictionary.\n",
        "\n",
        "  Here `year` should be the integer value of the year, and `yeartextdict` should be the HTML text for the corresponding webpage. \n",
        "  This function should return a dictionary of the following form:\n",
        "\n",
        "  ```\n",
        "  {'ranking': 32,\n",
        "  'song': ['Hot Boyz (song)'],\n",
        "  'songurl': ['/wiki/Hot_Boyz_(song)'],\n",
        "  'titletext': '\"Hot Boyz\"',\n",
        "  'band_singer': ['Missy Elliott', 'Nas', 'Eve (rapper)', 'Q-Tip (musician)'],\n",
        "  'url': ['/wiki/Missy_Elliott',\n",
        "    '/wiki/Nas',\n",
        "    '/wiki/Eve_(rapper)',\n",
        "    '/wiki/Q-Tip_(musician)']}\n",
        "  ```\n",
        "  Here, `url` should be the link for the singer or band (observe that on the web page, there is a link for every song and artist). We are extracting the `url` of the artist(s) to use at a later stage in the homework. `ranking` is the ranking of the song, `band_singer` should be the name of the artist(s) and `title` should be the title of the song. Also notice that the `titletext` is the contents of the table cell, and **retains the quotes** that wikipedia puts on the single. \n",
        "\n",
        "- Once the above function is created, generate a dictionary `yearinfo` to store the information extracted above for all of the years. `yearinfo` should be a dictionary with keys as years and values as a list of dictionaries generated by the function `parse_year`. The dictionary should be of the following form:\n",
        "\n",
        "  ```\n",
        "  {'1992': [{'band_singer': ['Boyz II Men'],\n",
        "   'ranking': 1,\n",
        "   'song': ['End of the Road (Boyz II Men song)'],\n",
        "   'songurl': ['/wiki/End_of_the_Road_(Boyz_II_Men_song)'],\n",
        "   'titletext': '\"End of the Road\"',\n",
        "   'url': ['/wiki/Boyz_II_Men']},\n",
        "  {'band_singer': ['Sir Mix-a-Lot'],\n",
        "   'ranking': 2,\n",
        "   'song': ['Baby Got Back'],\n",
        "   'songurl': ['/wiki/Baby_Got_Back'],\n",
        "   'titletext': '\"Baby Got Back\"',\n",
        "   'url': ['/wiki/Sir_Mix-a-Lot']},....]\n",
        "   ...\n",
        "\n",
        "   '1993': [{'band_singer': ['Whitney Houston'],\n",
        "   'ranking': 1,\n",
        "   'song': ['I Will Always Love You'],\n",
        "   'songurl': ['/wiki/I_Will_Always_Love_You#Whitney_Houston_version'],\n",
        "   'titletext': '\"I Will Always Love You\"',\n",
        "   'url': ['/wiki/Whitney_Houston']},\n",
        "  {'band_singer': ['Tag Team (group)'],\n",
        "   'ranking': 2,\n",
        "   'song': ['Whoomp! (There It Is)'],\n",
        "   'songurl': ['/wiki/Whoomp!_(There_It_Is)'],\n",
        "   'titletext': '\"Whoomp! (There It Is)\"',\n",
        "   'url': ['/wiki/Tag_Team_(group)']},...]\n",
        "   ...\n",
        "   ...\n",
        "\n",
        "   '2021': [{'band_singer': ['Dua Lipa'],\n",
        "   'ranking': 1,\n",
        "   'song': ['Levitating (song)'],\n",
        "   'songurl': ['/wiki/Levitating_(song)'],\n",
        "   'titletext': '\"Levitating\"',\n",
        "   'url': ['/wiki/Dua_Lipa']},\n",
        "  {'band_singer': ['The Weeknd', 'Ariana Grande'],\n",
        "   'ranking': 2,\n",
        "   'song': ['Save Your Tears'],\n",
        "   'songurl': ['/wiki/Save_Your_Tears'],\n",
        "   'titletext': '\"Save Your Tears\"',\n",
        "   'url': ['/wiki/The_Weeknd', '/wiki/Ariana_Grande']},...]\n",
        "  ```\n",
        "<br>\n",
        "\n",
        "  **Note:** Here are some other issues that you will need to take care of while parsing:\n",
        "\n",
        "    i. The example shown above has several artists for a single song. In this case, the `band_singer` and `url` would be a list of items.\n",
        "\n",
        "    ii. Some singles might even have multiple songs because of the way the industry works:\n",
        "    ```\n",
        "    {'ranking': 98,\n",
        "    'song': [\"You're Makin' Me High\", 'Let It Flow (song)'],\n",
        "    'songurl': ['/wiki/You%27re_Makin%27_Me_High', '/wiki/Let_It_Flow_(song)'],\n",
        "    'titletext': '\"You\\'re Makin\\' Me High\" / \"Let It Flow\"',\n",
        "    'band_singer': ['Toni Braxton'],\n",
        "    'url': ['/wiki/Toni_Braxton']}\n",
        "    ```\n",
        "    (See 1997 for an example)\n",
        "\n",
        "    iii. Some songs don't have a URL. In this case, assume there is one song in the single, set `songurl` to [`None`] and the song name to the contents of the table cell with the quotes stripped:\n",
        "    ```\n",
        "    {'ranking': 45,\n",
        "      'song': ['Say It'],\n",
        "      'songurl': [None],\n",
        "      'titletext': '\"Say It\"',\n",
        "      'band_singer': ['Voices of Theory'],\n",
        "      'url': ['/wiki/Voices_of_Theory']}\n",
        "    ```\n",
        "    (See 1998 for an example)\n",
        "\n",
        "</details>\n",
        "<br> \n",
        "\n",
        "**Question 2:** Construct a DataFrame from parsed data\n",
        "\n",
        "**2.1** [10pts] Construct a dataframe from the dictionary `yearinfo`.\n",
        "\n",
        "<details>\n",
        "<summary>\n",
        "<font size=\"3\" color=\"green\">\n",
        "<b>Click for Instructions</b>\n",
        "</font>\n",
        "</summary>\n",
        "\n",
        "- Construct a dataframe from the dictionary created in the previous section `yearinfo`. Name this dataframe `billboardtop`.<br><br>\n",
        "  Keep in mind, in the data structure we have so far, a given key can have a list of values with multiple entries. Also, our data is grouped by year. So we need a way to flatten this data into a format that will create a useful DataFrame. \n",
        "  Your final dataframe `billboardtop` should look something like this:\n",
        "\n",
        "  <img src=\"https://drive.google.com/uc?export=view&id=1adDiuSmHXR7B7YO2ZNT_OJ9QejUyuJAC\" width=1500/>\n",
        "\n",
        "- Ensure that all lists in your dictionary are in different rows. <br>\n",
        "  For example, a single containing two artists should be two different rows:\n",
        "  <img src=\"https://drive.google.com/uc?export=view&id=1hxGXmP20vJ5i1N7WDg_pZBYly7gX2Gz0\" width=1500/>\n",
        "\n",
        "  A single containing two titles (1997, Rank 98) should be two different rows:\n",
        "  <img src=\"https://drive.google.com/uc?export=view&id=1nRrDQOixcH4HfahfA9YF7R7brm_OyD7d\" width=1500/>\n",
        "\n",
        "</details>\n",
        "\n",
        "**2.2** [3pts] Check your dataframes data types and convert them to the correct data types if needed.\n",
        "\n",
        "<details>\n",
        "<summary>\n",
        "<font size=\"3\" color=\"green\">\n",
        "<b>Click for Instructions</b>\n",
        "</font>\n",
        "</summary>\n",
        "\n",
        "- Check dataframe data types using ```dtypes```.\n",
        "- Convert them to the correct data types if needed using the ```astype()``` function.\n",
        "\n",
        "</details>\n",
        "\n",
        "**2.3** [2pts] Store this dataframe so you won't need to run this again!"
      ]
    },
    {
      "cell_type": "markdown",
      "metadata": {
        "id": "ucKkibJnDXEE"
      },
      "source": [
        "### Solutions"
      ]
    },
    {
      "cell_type": "markdown",
      "metadata": {
        "id": "w59cz9L4DXEE"
      },
      "source": [
        "#### Question 1: Scrape and Parse Wikipedia for Billboard Top 100"
      ]
    },
    {
      "cell_type": "markdown",
      "metadata": {
        "id": "2Aux5kt7DXEE"
      },
      "source": [
        "**1.1** Scrape Wikipedia's Billboard Top 100 song pages from 1992 to 2021."
      ]
    },
    {
      "cell_type": "code",
      "execution_count": null,
      "metadata": {
        "id": "uPdsuKUDDXEF"
      },
      "outputs": [],
      "source": [
        "# your code here \n",
        "pages = {}\n",
        "yearstext = {}\n",
        "year = [1992,1993,2021]\n",
        "wik_page = [\"http://en.wikipedia.org/wiki/Billboard_Year-End_Hot_100_singles_of_1992\",\"http://en.wikipedia.org/wiki/Billboard_Year-End_Hot_100_singles_of_1993\",\"http://en.wikipedia.org/wiki/Billboard_Year-End_Hot_100_singles_of_2021\"]\n",
        "for i in range(1,4):\n",
        "    pages[i] = requests.get(wik_page[i-1])\n",
        "    yearstext[year[i-1]] = pages[i].text\n",
        "    time.sleep(1)\n"
      ]
    },
    {
      "cell_type": "markdown",
      "metadata": {
        "id": "7DTrQDhzDXEF"
      },
      "source": [
        "**1.2** Parse the HTML retrieved to extract ranking, song and artist information. "
      ]
    },
    {
      "cell_type": "markdown",
      "metadata": {
        "id": "CcohpXHnDXEF"
      },
      "source": [
        "Now create a function for the above so i can do it for all years"
      ]
    },
    {
      "cell_type": "code",
      "execution_count": null,
      "metadata": {
        "scrolled": true,
        "id": "Nw5es5nUDXEG"
      },
      "outputs": [],
      "source": [
        "\"\"\"\n",
        "Function\n",
        "--------\n",
        "parse_year\n",
        "\n",
        "Inputs\n",
        "------\n",
        "year: the year you want the singles for\n",
        "ytextdixt: a dictionary with keys as integer years and values the downloaded web pages \n",
        "    from wikipedia for that year.\n",
        "   \n",
        "Returns\n",
        "-------\n",
        "\n",
        "a list of dictionaries, each of which corresponds to a single and has the\n",
        "following data:\n",
        "\n",
        "Eg:\n",
        "\n",
        "{'band_singer': ['Brandy', 'Monica'],\n",
        "  'ranking': 2,\n",
        "  'song': ['The Boy Is Mine'],\n",
        "  'songurl': ['/wiki/The_Boy_Is_Mine_(song)'],\n",
        "  'titletext': '\" The Boy Is Mine \"',\n",
        "  'url': ['/wiki/Brandy_Norwood', '/wiki/Monica_(entertainer)']}\n",
        "  \n",
        "A dictionary with the following data:\n",
        "    band_singer: a list of bands/singers who made this single\n",
        "    song: a list of the titles of songs on this single\n",
        "    songurl: a list of the same size as song which has urls for the songs on the single \n",
        "        (see point 3 above)\n",
        "    ranking: ranking of the single\n",
        "    titletext: the contents of the table cell\n",
        "    band_singer: a list of bands or singers on this single\n",
        "    url: a list of wikipedia singer/band urls on this single: only put in the part \n",
        "        of the url from /wiki onwards\n",
        "    \n",
        "\"\"\"\n",
        "\n",
        "field = [\"ranking\", \"song\", \"songurl\", \"titletext\", \"band_singer\", \"url\"]\n",
        "year_list = []\n",
        "# your code here \n",
        "def parse_year(year, yearstext):\n",
        "    year_list = []\n",
        "    info = []\n",
        "    soup = BeautifulSoup(yearstext[1992], \"html.parser\")\n",
        "    info = soup.find_all(\"td\")\n",
        "    info_dict = {}\n",
        "    for i in range(len(info)):\n",
        "        if i%3==0 and i!=0:\n",
        "            year_list.append(info_dict)\n",
        "            info_dict = {}\n",
        "        x = info[i].find(\"a\")\n",
        "        if i%3 == 0:\n",
        "            info_dict[field[0]]=info[i].get_text()\n",
        "            x= 1\n",
        "        if i%3 == 1:\n",
        "            if x== None:\n",
        "                info_dict[field[3]] = info[i].get_text()\n",
        "                info_dict[field[1]] = info[i].get_text()\n",
        "                info_dict[field[2]] = \"None\"\n",
        "            else:\n",
        "                info_dict[field[3]]  = x.get_text()\n",
        "                info_dict[field[1]]  = x.get_text()\n",
        "                info_dict[field[2]] = x.get(\"href\")\n",
        "        if i%3 == 2:\n",
        "            info_dict[field[4]]  = x.get_text()\n",
        "            info_dict[field[5]]  = x.get(\"href\")\n",
        "    return year_list"
      ]
    },
    {
      "cell_type": "code",
      "execution_count": null,
      "metadata": {
        "id": "RvX0tbZdDXEG"
      },
      "outputs": [],
      "source": [
        "yearinfo = {}\n",
        "yearinfo = dict((i,parse_year(i,yearstext)[:100])for i in year)"
      ]
    },
    {
      "cell_type": "markdown",
      "metadata": {
        "id": "FjDl-iH8DXEG"
      },
      "source": [
        "Save this dictionary as a json file so you do not need to run it over and over again."
      ]
    },
    {
      "cell_type": "code",
      "execution_count": null,
      "metadata": {
        "id": "Mt9iMxzvDXEH"
      },
      "outputs": [],
      "source": [
        "# your code here \n",
        "import pickle\n",
        "with open('/content/drive/MyDrive/yearinfo.json', 'wb') as fp:\n",
        "    pickle.dump(yearinfo, fp)"
      ]
    },
    {
      "cell_type": "markdown",
      "metadata": {
        "id": "Ejx0MtdqDXEH"
      },
      "source": [
        "#### Question 2: Construct a DataFrame from parsed data"
      ]
    },
    {
      "cell_type": "markdown",
      "metadata": {
        "id": "He5xJ3CDDXEH"
      },
      "source": [
        "**2.1** Construct a dataframe from the dictionary ```yearinfo```"
      ]
    },
    {
      "cell_type": "code",
      "execution_count": null,
      "metadata": {
        "id": "KDffsD34DXEI"
      },
      "outputs": [],
      "source": [
        "# your code here \n",
        "with open('/content/drive/MyDrive/yearinfo.json', 'rb') as fp:\n",
        "    data = pickle.load(fp)\n",
        "new_fields = [\"year\",\"ranking\", \"song\", \"songurl\", \"titletext\", \"band_singer\", \"url\"]\n",
        "flat_data ={}\n",
        "for year, yeardict in data.items():\n",
        "    for d in yeardict:\n",
        "        flat_data.setdefault(\"year\", []).append(year)\n",
        "        for key, value in d.items():\n",
        "            flat_data.setdefault(key, []).append(value)\n",
        "billboardtop = pd.DataFrame.from_dict(flat_data)"
      ]
    },
    {
      "cell_type": "code",
      "execution_count": null,
      "metadata": {
        "colab": {
          "base_uri": "https://localhost:8080/",
          "height": 206
        },
        "id": "pDh3ozqlDXEI",
        "outputId": "92c9cd00-d2a1-443b-cd8d-e0f7dbfa1944"
      },
      "outputs": [
        {
          "output_type": "execute_result",
          "data": {
            "text/html": [
              "\n",
              "  <div id=\"df-1e84414f-be72-4984-8a48-6fe14e841893\">\n",
              "    <div class=\"colab-df-container\">\n",
              "      <div>\n",
              "<style scoped>\n",
              "    .dataframe tbody tr th:only-of-type {\n",
              "        vertical-align: middle;\n",
              "    }\n",
              "\n",
              "    .dataframe tbody tr th {\n",
              "        vertical-align: top;\n",
              "    }\n",
              "\n",
              "    .dataframe thead th {\n",
              "        text-align: right;\n",
              "    }\n",
              "</style>\n",
              "<table border=\"1\" class=\"dataframe\">\n",
              "  <thead>\n",
              "    <tr style=\"text-align: right;\">\n",
              "      <th></th>\n",
              "      <th>year</th>\n",
              "      <th>ranking</th>\n",
              "      <th>titletext</th>\n",
              "      <th>song</th>\n",
              "      <th>songurl</th>\n",
              "      <th>band_singer</th>\n",
              "      <th>url</th>\n",
              "    </tr>\n",
              "  </thead>\n",
              "  <tbody>\n",
              "    <tr>\n",
              "      <th>0</th>\n",
              "      <td>1992</td>\n",
              "      <td>1</td>\n",
              "      <td>End of the Road</td>\n",
              "      <td>End of the Road</td>\n",
              "      <td>/wiki/End_of_the_Road_(Boyz_II_Men_song)</td>\n",
              "      <td>Boyz II Men</td>\n",
              "      <td>/wiki/Boyz_II_Men</td>\n",
              "    </tr>\n",
              "    <tr>\n",
              "      <th>1</th>\n",
              "      <td>1992</td>\n",
              "      <td>2</td>\n",
              "      <td>Baby Got Back</td>\n",
              "      <td>Baby Got Back</td>\n",
              "      <td>/wiki/Baby_Got_Back</td>\n",
              "      <td>Sir Mix-a-Lot</td>\n",
              "      <td>/wiki/Sir_Mix-a-Lot</td>\n",
              "    </tr>\n",
              "    <tr>\n",
              "      <th>2</th>\n",
              "      <td>1992</td>\n",
              "      <td>3</td>\n",
              "      <td>Jump</td>\n",
              "      <td>Jump</td>\n",
              "      <td>/wiki/Jump_(Kris_Kross_song)</td>\n",
              "      <td>Kris Kross</td>\n",
              "      <td>/wiki/Kris_Kross</td>\n",
              "    </tr>\n",
              "    <tr>\n",
              "      <th>3</th>\n",
              "      <td>1992</td>\n",
              "      <td>4</td>\n",
              "      <td>Save the Best for Last</td>\n",
              "      <td>Save the Best for Last</td>\n",
              "      <td>/wiki/Save_the_Best_for_Last</td>\n",
              "      <td>Vanessa Williams</td>\n",
              "      <td>/wiki/Vanessa_L._Williams</td>\n",
              "    </tr>\n",
              "    <tr>\n",
              "      <th>4</th>\n",
              "      <td>1992</td>\n",
              "      <td>5</td>\n",
              "      <td>Baby-Baby-Baby</td>\n",
              "      <td>Baby-Baby-Baby</td>\n",
              "      <td>/wiki/Baby-Baby-Baby</td>\n",
              "      <td>TLC</td>\n",
              "      <td>/wiki/TLC_(band)</td>\n",
              "    </tr>\n",
              "  </tbody>\n",
              "</table>\n",
              "</div>\n",
              "      <button class=\"colab-df-convert\" onclick=\"convertToInteractive('df-1e84414f-be72-4984-8a48-6fe14e841893')\"\n",
              "              title=\"Convert this dataframe to an interactive table.\"\n",
              "              style=\"display:none;\">\n",
              "        \n",
              "  <svg xmlns=\"http://www.w3.org/2000/svg\" height=\"24px\"viewBox=\"0 0 24 24\"\n",
              "       width=\"24px\">\n",
              "    <path d=\"M0 0h24v24H0V0z\" fill=\"none\"/>\n",
              "    <path d=\"M18.56 5.44l.94 2.06.94-2.06 2.06-.94-2.06-.94-.94-2.06-.94 2.06-2.06.94zm-11 1L8.5 8.5l.94-2.06 2.06-.94-2.06-.94L8.5 2.5l-.94 2.06-2.06.94zm10 10l.94 2.06.94-2.06 2.06-.94-2.06-.94-.94-2.06-.94 2.06-2.06.94z\"/><path d=\"M17.41 7.96l-1.37-1.37c-.4-.4-.92-.59-1.43-.59-.52 0-1.04.2-1.43.59L10.3 9.45l-7.72 7.72c-.78.78-.78 2.05 0 2.83L4 21.41c.39.39.9.59 1.41.59.51 0 1.02-.2 1.41-.59l7.78-7.78 2.81-2.81c.8-.78.8-2.07 0-2.86zM5.41 20L4 18.59l7.72-7.72 1.47 1.35L5.41 20z\"/>\n",
              "  </svg>\n",
              "      </button>\n",
              "      \n",
              "  <style>\n",
              "    .colab-df-container {\n",
              "      display:flex;\n",
              "      flex-wrap:wrap;\n",
              "      gap: 12px;\n",
              "    }\n",
              "\n",
              "    .colab-df-convert {\n",
              "      background-color: #E8F0FE;\n",
              "      border: none;\n",
              "      border-radius: 50%;\n",
              "      cursor: pointer;\n",
              "      display: none;\n",
              "      fill: #1967D2;\n",
              "      height: 32px;\n",
              "      padding: 0 0 0 0;\n",
              "      width: 32px;\n",
              "    }\n",
              "\n",
              "    .colab-df-convert:hover {\n",
              "      background-color: #E2EBFA;\n",
              "      box-shadow: 0px 1px 2px rgba(60, 64, 67, 0.3), 0px 1px 3px 1px rgba(60, 64, 67, 0.15);\n",
              "      fill: #174EA6;\n",
              "    }\n",
              "\n",
              "    [theme=dark] .colab-df-convert {\n",
              "      background-color: #3B4455;\n",
              "      fill: #D2E3FC;\n",
              "    }\n",
              "\n",
              "    [theme=dark] .colab-df-convert:hover {\n",
              "      background-color: #434B5C;\n",
              "      box-shadow: 0px 1px 3px 1px rgba(0, 0, 0, 0.15);\n",
              "      filter: drop-shadow(0px 1px 2px rgba(0, 0, 0, 0.3));\n",
              "      fill: #FFFFFF;\n",
              "    }\n",
              "  </style>\n",
              "\n",
              "      <script>\n",
              "        const buttonEl =\n",
              "          document.querySelector('#df-1e84414f-be72-4984-8a48-6fe14e841893 button.colab-df-convert');\n",
              "        buttonEl.style.display =\n",
              "          google.colab.kernel.accessAllowed ? 'block' : 'none';\n",
              "\n",
              "        async function convertToInteractive(key) {\n",
              "          const element = document.querySelector('#df-1e84414f-be72-4984-8a48-6fe14e841893');\n",
              "          const dataTable =\n",
              "            await google.colab.kernel.invokeFunction('convertToInteractive',\n",
              "                                                     [key], {});\n",
              "          if (!dataTable) return;\n",
              "\n",
              "          const docLinkHtml = 'Like what you see? Visit the ' +\n",
              "            '<a target=\"_blank\" href=https://colab.research.google.com/notebooks/data_table.ipynb>data table notebook</a>'\n",
              "            + ' to learn more about interactive tables.';\n",
              "          element.innerHTML = '';\n",
              "          dataTable['output_type'] = 'display_data';\n",
              "          await google.colab.output.renderOutput(dataTable, element);\n",
              "          const docLink = document.createElement('div');\n",
              "          docLink.innerHTML = docLinkHtml;\n",
              "          element.appendChild(docLink);\n",
              "        }\n",
              "      </script>\n",
              "    </div>\n",
              "  </div>\n",
              "  "
            ],
            "text/plain": [
              "   year ranking  ...       band_singer                        url\n",
              "0  1992       1  ...       Boyz II Men          /wiki/Boyz_II_Men\n",
              "1  1992       2  ...     Sir Mix-a-Lot        /wiki/Sir_Mix-a-Lot\n",
              "2  1992       3  ...        Kris Kross           /wiki/Kris_Kross\n",
              "3  1992       4  ...  Vanessa Williams  /wiki/Vanessa_L._Williams\n",
              "4  1992       5  ...               TLC           /wiki/TLC_(band)\n",
              "\n",
              "[5 rows x 7 columns]"
            ]
          },
          "metadata": {},
          "execution_count": 17
        }
      ],
      "source": [
        "billboardtop.head()"
      ]
    },
    {
      "cell_type": "markdown",
      "metadata": {
        "id": "PlJdzjtODXEI"
      },
      "source": [
        "**2.2** Check your dataframes data types and convert them to the correct data types if needed. "
      ]
    },
    {
      "cell_type": "code",
      "execution_count": null,
      "metadata": {
        "scrolled": true,
        "colab": {
          "base_uri": "https://localhost:8080/"
        },
        "id": "HBiljgQvDXEI",
        "outputId": "5bb91bfe-92fa-424c-bfaf-be115bf0823f"
      },
      "outputs": [
        {
          "output_type": "stream",
          "name": "stdout",
          "text": [
            "<class 'pandas.core.frame.DataFrame'>\n",
            "RangeIndex: 300 entries, 0 to 299\n",
            "Data columns (total 7 columns):\n",
            " #   Column       Non-Null Count  Dtype \n",
            "---  ------       --------------  ----- \n",
            " 0   year         300 non-null    int64 \n",
            " 1   ranking      300 non-null    object\n",
            " 2   titletext    300 non-null    object\n",
            " 3   song         300 non-null    object\n",
            " 4   songurl      300 non-null    object\n",
            " 5   band_singer  300 non-null    object\n",
            " 6   url          300 non-null    object\n",
            "dtypes: int64(1), object(6)\n",
            "memory usage: 16.5+ KB\n"
          ]
        }
      ],
      "source": [
        "# your code here \n",
        "billboardtop.info()"
      ]
    },
    {
      "cell_type": "code",
      "execution_count": null,
      "metadata": {
        "id": "167zW-qwDXEI"
      },
      "outputs": [],
      "source": [
        "billboardtop[\"ranking\"] = billboardtop.ranking.astype(\"int64\")"
      ]
    },
    {
      "cell_type": "code",
      "execution_count": null,
      "metadata": {
        "colab": {
          "base_uri": "https://localhost:8080/"
        },
        "id": "j8ZgLSQxDXEJ",
        "outputId": "c3fb94f8-1b9a-4dab-a61b-2bed90cf6952"
      },
      "outputs": [
        {
          "output_type": "stream",
          "name": "stdout",
          "text": [
            "<class 'pandas.core.frame.DataFrame'>\n",
            "RangeIndex: 300 entries, 0 to 299\n",
            "Data columns (total 7 columns):\n",
            " #   Column       Non-Null Count  Dtype \n",
            "---  ------       --------------  ----- \n",
            " 0   year         300 non-null    int64 \n",
            " 1   ranking      300 non-null    int64 \n",
            " 2   titletext    300 non-null    object\n",
            " 3   song         300 non-null    object\n",
            " 4   songurl      300 non-null    object\n",
            " 5   band_singer  300 non-null    object\n",
            " 6   url          300 non-null    object\n",
            "dtypes: int64(2), object(5)\n",
            "memory usage: 16.5+ KB\n"
          ]
        }
      ],
      "source": [
        "billboardtop.info()"
      ]
    },
    {
      "cell_type": "markdown",
      "metadata": {
        "id": "ySY7Hao0DXEJ"
      },
      "source": [
        "**2.3** Store this dataframe so you won't need to run this again!\n",
        "\n",
        "The easiest way is to pickle it using to_pickle:"
      ]
    },
    {
      "cell_type": "code",
      "execution_count": null,
      "metadata": {
        "id": "MAucxneNDXEJ"
      },
      "outputs": [],
      "source": [
        "# your code here \n",
        "billboardtop.to_pickle(\"billboardtop.pkl\")"
      ]
    },
    {
      "cell_type": "markdown",
      "metadata": {
        "id": "gl1JV2pPDXEJ"
      },
      "source": [
        ""
      ]
    },
    {
      "cell_type": "markdown",
      "metadata": {
        "id": "4qJkyhFcDXEJ"
      },
      "source": [
        "# Part B: Constructing a year-song-singer dataframe [30 points]\n",
        "\n",
        "Now, we need to fetch information about the singers or bands for all the songs we have in the `billboardtop` dataframe.\n",
        "\n",
        "**Question 1:** Scrape and Parse Wikipedia for information about Artists and Bands\n",
        "\n",
        "**1.1** Scrape the artist's Wikipedia webpages.\n",
        "\n",
        "<details>\n",
        "<summary>\n",
        "<font size=\"3\" color=\"green\">\n",
        "<b>Click for Instructions</b>\n",
        "</font>\n",
        "</summary>\n",
        "\n",
        "Since we have hundreds of artists webpages to scrape, we have created a function which implements caching in order to speed up this process.\n",
        "\n",
        "The cache object urlcache that will avoid redundant HTTP requests (e.g. an artist might have multiple singles on a single year, or be on the list over a span of years). **Remember that this function is designed to be used in a loop over years, and then a loop over songs per year.** Since network requests are relatively slow, if we have already requested for a singer or band's wikipedia page, caching the results is a smart thing to do.\n",
        "\n",
        "Notice that we have wrapped the call in an exception block. If the request gets an HTTP code different from 200, the cells for that URL will have a value of 1; and if the request completely fails (e.g. no network connection) the cell will have a value of 2. This will allow you to analyse the failed requests.\n",
        "\n",
        "</details>\n",
        "\n",
        "**1.2** [15pts] Parse the HTML retrieved to extract genre of the artist, date of birth, years active and other artist information.\n",
        "\n",
        "<details>\n",
        "<summary>\n",
        "<font size=\"3\" color=\"green\">\n",
        "<b>Click for Instructions</b>\n",
        "</font>\n",
        "</summary>\n",
        "\n",
        "- Write a function `singer_band_info(url, page_text)` that returns a dictionary. \n",
        "\n",
        "  Here `url` should be the the url corresponding to the singer's Wikipedia page (same as the previous dataframe `billboardtop`), and page_text should be the HTML text for the corresponding artist's webpage. This function should return a dictionary which contains the following information:\n",
        "\n",
        "  1. The genres of the band or singer. These genres should be urls, to ensure their uniqueness. Create a list, `genres`, of these urls. If there are no genres, use `['NA']`.\n",
        "\n",
        "  2. If the page has the text \"Born\", extract the element with the class `.bday`. If there is no \"Born\", store `False`. Store either of these into the variable `born`. \n",
        "\n",
        "  3. If the text \"Years active\" is found, but there is no birthday, assume a band. Store the years active into the variable `ya`, or `False` if the text is not found. \n",
        "\n",
        "  The dictionary returned should be of the form:\n",
        "  ```\n",
        "  { 'url': '/wiki/Boyz_II_Men', \n",
        "  'genres': ['/wiki/Contemporary_R%26B_music', '/wiki/Soul_music', '/wiki/New_jack_swing'], \n",
        "  'born': None, \n",
        "  'ya': '1987–present'}\n",
        "  ```\n",
        "- Once the above function is created, generate a list `singer_band_info_list` to store the information extracted above. `singer_band_info_list` should be a list of the dictionaries that the function `singer_band_info` returns. The list should look something like this:\n",
        "```\n",
        "  'genres': ['/wiki/Contemporary_R%26B_music',\n",
        "   '/wiki/Soul_music',\n",
        "   '/wiki/New_jack_swing'],\n",
        "  'url': '/wiki/Boyz_II_Men',\n",
        "  'ya': '1987–present'},\n",
        " {'born': None,\n",
        "  'genres': ['/wiki/Pop_music',\n",
        "   '/wiki/Electronica_music',\n",
        "   '/wiki/Dance_music',\n",
        "   '/wiki/Rave_music',\n",
        "   '/wiki/House_music'],\n",
        "  'url': '/wiki/KWS_(band)',\n",
        "  'ya': '1991–1994'},\n",
        " ... and so on]\n",
        "  ```\n",
        "<br>\n",
        "\n",
        "  **Note:** Wikipedia has changed it's format along the years! So observing one artist's webpage and building your function based on it will probably give you tons of errors. Here are a few issues to remember while parsing:\n",
        "\n",
        "    1. There are several artists that take a sabbatical between their active years (https://en.wikipedia.org/wiki/Tony!_Toni!_Ton%C3%A9!). To get the right data, write a function to calculate the longest period of time they were active and consider that as your variable `years active`. In the example give, this would be 2003–present.\n",
        "    2. Birthday's are given in different formats for different pages. For example - https://en.wikipedia.org/wiki/Sir_Mix-a-Lot and https://en.wikipedia.org/wiki/Ed_Sheeran have different formats. To ensure that you get the right day, look for the 'span' tag with a 'bday' tag and ensure that there are no paranthesis around the extracted text.\n",
        "    3. Year's active are also given in different formats. For example - https://en.wikipedia.org/wiki/Boyz_II_Men and https://en.wikipedia.org/wiki/Ed_Sheeran are different. You could use regex (\"[0-9]{4}[–][0-9]{4}\" and \"[0-9]{4}[–][0-9]{4}\") to ensure you are getting the right years.\n",
        "\n",
        "  Definitely do look at your outputs as you are parsing as it can identify several edge cases you have not considered in your code.\n",
        "\n",
        "</details>\n",
        "\n",
        "**Question 2:** Construct a DataFrame from parsed data\n",
        "\n",
        "**2.1** [3pts] Construct a dataframe from the list `singer_band_info_list` and convert them to the correct data types if needed.\n",
        "\n",
        "<details>\n",
        "<summary>\n",
        "<font size=\"3\" color=\"green\">\n",
        "<b>Click for Instructions</b>\n",
        "</font>\n",
        "</summary>\n",
        "\n",
        "- Construct a dataframe from the list created in the previous section yearinfo. Name this dataframe `singerbandinfo`.\n",
        "\n",
        "  Your dataframe `singerbandinfo` should look something like this:\n",
        "\n",
        "  <img src=\"https://drive.google.com/uc?export=view&id=1LZh_J-LsB2p9UW7lCJaSbPNMTH-Bv61p\" width=1500/> \n",
        "\n",
        "- Check dataframe data types using dtypes.\n",
        "- Convert them to the correct data types if needed using the astype() function.\n",
        "\n",
        "\n",
        "</details>\n",
        "\n",
        "**2.2** [2pts] Merge `billboardtop` and `singerbandinfo` to create one dataframe.\n",
        "\n",
        "<details>\n",
        "<summary>\n",
        "<font size=\"3\" color=\"green\">\n",
        "<b>Click for Instructions</b>\n",
        "</font>\n",
        "</summary>\n",
        "\n",
        "- Merge the artist/song data frames into one large dataframe named `finaldf` on url. Your  dataframe should look something like this:\n",
        "  <img src=\"https://drive.google.com/uc?export=view&id=1JMoV2gvIpIQ4tDGwidT7eAGKGusF8V0Z\" width=1500/> \n",
        "\n",
        "  Note that this has an effect of imputing to a song all the genres that the artist is active in. We know that this is not true, but it is the simplest assumption we can make, and is probably good for most artists.\n",
        "\n",
        "</details>\n",
        "\n",
        "**2.3** [10pts] Perform feature engineering on `finaldf`.\n",
        "\n",
        "<details>\n",
        "<summary>\n",
        "<font size=\"3\" color=\"green\">\n",
        "<b>Click for Instructions</b>\n",
        "</font>\n",
        "</summary>\n",
        "\n",
        "- Encode genre: Update the dataframe by adding a column for each genre with 1-0 encoding for each row. This means, we want columns like \"/wiki/Alternative_Rock\", \"/wiki/Acid_jazz\", where if an artist is in that genre, the dataframe cell has a 1. Otherwise, it has a 0.\n",
        "\n",
        "  Remember that an artist/band can be in multiple genres, and must have a 1 for each column corresponding to these genres, and 0 otherwise. This will widen the dataframe by the total number of genres that we have. \n",
        "\n",
        "  The final dataframe will look a bit like this:\n",
        "\n",
        "  <img src=\"https://drive.google.com/uc?export=view&id=1r9G78REnrjRmhc9o6rOx62fuJJAjyt7w\" width=1500/>\n",
        "\n",
        "</details>"
      ]
    },
    {
      "cell_type": "markdown",
      "metadata": {
        "id": "a5UAbAsYDXEK"
      },
      "source": [
        "### Solutions"
      ]
    },
    {
      "cell_type": "markdown",
      "metadata": {
        "id": "jHji3fSEDXEK"
      },
      "source": [
        "#### Question 1: Scrape and Parse Wikipedia for information about Artists and Bands"
      ]
    },
    {
      "cell_type": "code",
      "source": [
        ""
      ],
      "metadata": {
        "id": "2XFfi_mODnQt"
      },
      "execution_count": null,
      "outputs": []
    },
    {
      "cell_type": "code",
      "source": [
        "from google.colab import drive\n",
        "drive.mount('/content/drive')"
      ],
      "metadata": {
        "colab": {
          "base_uri": "https://localhost:8080/"
        },
        "id": "-bhSyz8-Dnkc",
        "outputId": "429351ec-7644-41b5-f920-d94d66fa736f"
      },
      "execution_count": null,
      "outputs": [
        {
          "output_type": "stream",
          "name": "stdout",
          "text": [
            "Mounted at /content/drive\n"
          ]
        }
      ]
    },
    {
      "cell_type": "code",
      "source": [
        "billboardtop = pd.read_pickle(\"/content/drive/MyDrive/billboardtop.pkl\")"
      ],
      "metadata": {
        "colab": {
          "base_uri": "https://localhost:8080/",
          "height": 286
        },
        "id": "r2-Xj9u3E_yW",
        "outputId": "611e2966-a0d4-4039-a162-9847cd75316b"
      },
      "execution_count": null,
      "outputs": [
        {
          "output_type": "error",
          "ename": "ValueError",
          "evalue": "ignored",
          "traceback": [
            "\u001b[0;31m---------------------------------------------------------------------------\u001b[0m",
            "\u001b[0;31mValueError\u001b[0m                                Traceback (most recent call last)",
            "\u001b[0;32m<ipython-input-11-114b278bfdd9>\u001b[0m in \u001b[0;36m<module>\u001b[0;34m()\u001b[0m\n\u001b[0;32m----> 1\u001b[0;31m \u001b[0mbillboardtop\u001b[0m \u001b[0;34m=\u001b[0m \u001b[0mpd\u001b[0m\u001b[0;34m.\u001b[0m\u001b[0mread_pickle\u001b[0m\u001b[0;34m(\u001b[0m\u001b[0;34m\"/content/drive/MyDrive/billboardtop.pkl\"\u001b[0m\u001b[0;34m)\u001b[0m\u001b[0;34m\u001b[0m\u001b[0;34m\u001b[0m\u001b[0m\n\u001b[0m",
            "\u001b[0;32m/usr/local/lib/python3.7/dist-packages/pandas/io/pickle.py\u001b[0m in \u001b[0;36mread_pickle\u001b[0;34m(filepath_or_buffer, compression)\u001b[0m\n\u001b[1;32m    180\u001b[0m                 \u001b[0;31m# We want to silence any warnings about, e.g. moved modules.\u001b[0m\u001b[0;34m\u001b[0m\u001b[0;34m\u001b[0m\u001b[0;34m\u001b[0m\u001b[0m\n\u001b[1;32m    181\u001b[0m                 \u001b[0mwarnings\u001b[0m\u001b[0;34m.\u001b[0m\u001b[0msimplefilter\u001b[0m\u001b[0;34m(\u001b[0m\u001b[0;34m\"ignore\"\u001b[0m\u001b[0;34m,\u001b[0m \u001b[0mWarning\u001b[0m\u001b[0;34m)\u001b[0m\u001b[0;34m\u001b[0m\u001b[0;34m\u001b[0m\u001b[0m\n\u001b[0;32m--> 182\u001b[0;31m                 \u001b[0;32mreturn\u001b[0m \u001b[0mpickle\u001b[0m\u001b[0;34m.\u001b[0m\u001b[0mload\u001b[0m\u001b[0;34m(\u001b[0m\u001b[0mf\u001b[0m\u001b[0;34m)\u001b[0m\u001b[0;34m\u001b[0m\u001b[0;34m\u001b[0m\u001b[0m\n\u001b[0m\u001b[1;32m    183\u001b[0m         \u001b[0;32mexcept\u001b[0m \u001b[0mexcs_to_catch\u001b[0m\u001b[0;34m:\u001b[0m\u001b[0;34m\u001b[0m\u001b[0;34m\u001b[0m\u001b[0m\n\u001b[1;32m    184\u001b[0m             \u001b[0;31m# e.g.\u001b[0m\u001b[0;34m\u001b[0m\u001b[0;34m\u001b[0m\u001b[0;34m\u001b[0m\u001b[0m\n",
            "\u001b[0;31mValueError\u001b[0m: unsupported pickle protocol: 5"
          ]
        }
      ]
    },
    {
      "cell_type": "code",
      "source": [
        "billboardtop.head()"
      ],
      "metadata": {
        "colab": {
          "base_uri": "https://localhost:8080/",
          "height": 206
        },
        "id": "mxUL5ni1F9Gr",
        "outputId": "12918891-9c26-4dbe-e2c2-0232cfcf7aa1"
      },
      "execution_count": null,
      "outputs": [
        {
          "output_type": "execute_result",
          "data": {
            "text/html": [
              "\n",
              "  <div id=\"df-3c00c7f8-aa37-4e58-9efc-5a2ce6c4073c\">\n",
              "    <div class=\"colab-df-container\">\n",
              "      <div>\n",
              "<style scoped>\n",
              "    .dataframe tbody tr th:only-of-type {\n",
              "        vertical-align: middle;\n",
              "    }\n",
              "\n",
              "    .dataframe tbody tr th {\n",
              "        vertical-align: top;\n",
              "    }\n",
              "\n",
              "    .dataframe thead th {\n",
              "        text-align: right;\n",
              "    }\n",
              "</style>\n",
              "<table border=\"1\" class=\"dataframe\">\n",
              "  <thead>\n",
              "    <tr style=\"text-align: right;\">\n",
              "      <th></th>\n",
              "      <th>year</th>\n",
              "      <th>ranking</th>\n",
              "      <th>titletext</th>\n",
              "      <th>song</th>\n",
              "      <th>songurl</th>\n",
              "      <th>band_singer</th>\n",
              "      <th>url</th>\n",
              "    </tr>\n",
              "  </thead>\n",
              "  <tbody>\n",
              "    <tr>\n",
              "      <th>0</th>\n",
              "      <td>1992</td>\n",
              "      <td>1</td>\n",
              "      <td>End of the Road</td>\n",
              "      <td>End of the Road</td>\n",
              "      <td>/wiki/End_of_the_Road_(Boyz_II_Men_song)</td>\n",
              "      <td>Boyz II Men</td>\n",
              "      <td>/wiki/Boyz_II_Men</td>\n",
              "    </tr>\n",
              "    <tr>\n",
              "      <th>1</th>\n",
              "      <td>1992</td>\n",
              "      <td>2</td>\n",
              "      <td>Baby Got Back</td>\n",
              "      <td>Baby Got Back</td>\n",
              "      <td>/wiki/Baby_Got_Back</td>\n",
              "      <td>Sir Mix-a-Lot</td>\n",
              "      <td>/wiki/Sir_Mix-a-Lot</td>\n",
              "    </tr>\n",
              "    <tr>\n",
              "      <th>2</th>\n",
              "      <td>1992</td>\n",
              "      <td>3</td>\n",
              "      <td>Jump</td>\n",
              "      <td>Jump</td>\n",
              "      <td>/wiki/Jump_(Kris_Kross_song)</td>\n",
              "      <td>Kris Kross</td>\n",
              "      <td>/wiki/Kris_Kross</td>\n",
              "    </tr>\n",
              "    <tr>\n",
              "      <th>3</th>\n",
              "      <td>1992</td>\n",
              "      <td>4</td>\n",
              "      <td>Save the Best for Last</td>\n",
              "      <td>Save the Best for Last</td>\n",
              "      <td>/wiki/Save_the_Best_for_Last</td>\n",
              "      <td>Vanessa Williams</td>\n",
              "      <td>/wiki/Vanessa_L._Williams</td>\n",
              "    </tr>\n",
              "    <tr>\n",
              "      <th>4</th>\n",
              "      <td>1992</td>\n",
              "      <td>5</td>\n",
              "      <td>Baby-Baby-Baby</td>\n",
              "      <td>Baby-Baby-Baby</td>\n",
              "      <td>/wiki/Baby-Baby-Baby</td>\n",
              "      <td>TLC</td>\n",
              "      <td>/wiki/TLC_(band)</td>\n",
              "    </tr>\n",
              "  </tbody>\n",
              "</table>\n",
              "</div>\n",
              "      <button class=\"colab-df-convert\" onclick=\"convertToInteractive('df-3c00c7f8-aa37-4e58-9efc-5a2ce6c4073c')\"\n",
              "              title=\"Convert this dataframe to an interactive table.\"\n",
              "              style=\"display:none;\">\n",
              "        \n",
              "  <svg xmlns=\"http://www.w3.org/2000/svg\" height=\"24px\"viewBox=\"0 0 24 24\"\n",
              "       width=\"24px\">\n",
              "    <path d=\"M0 0h24v24H0V0z\" fill=\"none\"/>\n",
              "    <path d=\"M18.56 5.44l.94 2.06.94-2.06 2.06-.94-2.06-.94-.94-2.06-.94 2.06-2.06.94zm-11 1L8.5 8.5l.94-2.06 2.06-.94-2.06-.94L8.5 2.5l-.94 2.06-2.06.94zm10 10l.94 2.06.94-2.06 2.06-.94-2.06-.94-.94-2.06-.94 2.06-2.06.94z\"/><path d=\"M17.41 7.96l-1.37-1.37c-.4-.4-.92-.59-1.43-.59-.52 0-1.04.2-1.43.59L10.3 9.45l-7.72 7.72c-.78.78-.78 2.05 0 2.83L4 21.41c.39.39.9.59 1.41.59.51 0 1.02-.2 1.41-.59l7.78-7.78 2.81-2.81c.8-.78.8-2.07 0-2.86zM5.41 20L4 18.59l7.72-7.72 1.47 1.35L5.41 20z\"/>\n",
              "  </svg>\n",
              "      </button>\n",
              "      \n",
              "  <style>\n",
              "    .colab-df-container {\n",
              "      display:flex;\n",
              "      flex-wrap:wrap;\n",
              "      gap: 12px;\n",
              "    }\n",
              "\n",
              "    .colab-df-convert {\n",
              "      background-color: #E8F0FE;\n",
              "      border: none;\n",
              "      border-radius: 50%;\n",
              "      cursor: pointer;\n",
              "      display: none;\n",
              "      fill: #1967D2;\n",
              "      height: 32px;\n",
              "      padding: 0 0 0 0;\n",
              "      width: 32px;\n",
              "    }\n",
              "\n",
              "    .colab-df-convert:hover {\n",
              "      background-color: #E2EBFA;\n",
              "      box-shadow: 0px 1px 2px rgba(60, 64, 67, 0.3), 0px 1px 3px 1px rgba(60, 64, 67, 0.15);\n",
              "      fill: #174EA6;\n",
              "    }\n",
              "\n",
              "    [theme=dark] .colab-df-convert {\n",
              "      background-color: #3B4455;\n",
              "      fill: #D2E3FC;\n",
              "    }\n",
              "\n",
              "    [theme=dark] .colab-df-convert:hover {\n",
              "      background-color: #434B5C;\n",
              "      box-shadow: 0px 1px 3px 1px rgba(0, 0, 0, 0.15);\n",
              "      filter: drop-shadow(0px 1px 2px rgba(0, 0, 0, 0.3));\n",
              "      fill: #FFFFFF;\n",
              "    }\n",
              "  </style>\n",
              "\n",
              "      <script>\n",
              "        const buttonEl =\n",
              "          document.querySelector('#df-3c00c7f8-aa37-4e58-9efc-5a2ce6c4073c button.colab-df-convert');\n",
              "        buttonEl.style.display =\n",
              "          google.colab.kernel.accessAllowed ? 'block' : 'none';\n",
              "\n",
              "        async function convertToInteractive(key) {\n",
              "          const element = document.querySelector('#df-3c00c7f8-aa37-4e58-9efc-5a2ce6c4073c');\n",
              "          const dataTable =\n",
              "            await google.colab.kernel.invokeFunction('convertToInteractive',\n",
              "                                                     [key], {});\n",
              "          if (!dataTable) return;\n",
              "\n",
              "          const docLinkHtml = 'Like what you see? Visit the ' +\n",
              "            '<a target=\"_blank\" href=https://colab.research.google.com/notebooks/data_table.ipynb>data table notebook</a>'\n",
              "            + ' to learn more about interactive tables.';\n",
              "          element.innerHTML = '';\n",
              "          dataTable['output_type'] = 'display_data';\n",
              "          await google.colab.output.renderOutput(dataTable, element);\n",
              "          const docLink = document.createElement('div');\n",
              "          docLink.innerHTML = docLinkHtml;\n",
              "          element.appendChild(docLink);\n",
              "        }\n",
              "      </script>\n",
              "    </div>\n",
              "  </div>\n",
              "  "
            ],
            "text/plain": [
              "   year  ranking  ...       band_singer                        url\n",
              "0  1992        1  ...       Boyz II Men          /wiki/Boyz_II_Men\n",
              "1  1992        2  ...     Sir Mix-a-Lot        /wiki/Sir_Mix-a-Lot\n",
              "2  1992        3  ...        Kris Kross           /wiki/Kris_Kross\n",
              "3  1992        4  ...  Vanessa Williams  /wiki/Vanessa_L._Williams\n",
              "4  1992        5  ...               TLC           /wiki/TLC_(band)\n",
              "\n",
              "[5 rows x 7 columns]"
            ]
          },
          "metadata": {},
          "execution_count": 20
        }
      ]
    },
    {
      "cell_type": "markdown",
      "metadata": {
        "id": "RNaKH4e0DXEK"
      },
      "source": [
        "**1.1** Scrape the artist's Wikipedia webpages."
      ]
    },
    {
      "cell_type": "code",
      "execution_count": null,
      "metadata": {
        "scrolled": true,
        "id": "5XSdz4rNDXEK"
      },
      "outputs": [],
      "source": [
        "urlcache={}\n",
        "def get_page(url):\n",
        "    if (url not in urlcache) or (urlcache[url]==1) or (urlcache[url]==2):\n",
        "        time.sleep(1)\n",
        "        try:\n",
        "            r = requests.get(\"http://en.wikipedia.org%s\" % url)\n",
        "            if r.status_code == 200:\n",
        "                urlcache[url] = r.text\n",
        "            else:\n",
        "                urlcache[url] = 1\n",
        "        except:\n",
        "            urlcache[url] = 2\n",
        "    return urlcache[url]"
      ]
    },
    {
      "cell_type": "markdown",
      "metadata": {
        "id": "aV3QOoCcDXEK"
      },
      "source": [
        "Before we apply our function to the dataframe, let us sort `billboardtop` by year. This will ensure that we will hit the cache most as singers who show up repeatedly in the rankings will have their information already pulled."
      ]
    },
    {
      "cell_type": "code",
      "execution_count": null,
      "metadata": {
        "scrolled": true,
        "colab": {
          "base_uri": "https://localhost:8080/",
          "height": 250
        },
        "id": "tYLWAqmSDXEL",
        "outputId": "1a4b2bd7-8fec-4502-b493-3fbb6af1cbb3"
      },
      "outputs": [
        {
          "output_type": "execute_result",
          "data": {
            "text/html": [
              "\n",
              "  <div id=\"df-2904172a-81f3-4207-8abd-efbebf144d6b\">\n",
              "    <div class=\"colab-df-container\">\n",
              "      <div>\n",
              "<style scoped>\n",
              "    .dataframe tbody tr th:only-of-type {\n",
              "        vertical-align: middle;\n",
              "    }\n",
              "\n",
              "    .dataframe tbody tr th {\n",
              "        vertical-align: top;\n",
              "    }\n",
              "\n",
              "    .dataframe thead th {\n",
              "        text-align: right;\n",
              "    }\n",
              "</style>\n",
              "<table border=\"1\" class=\"dataframe\">\n",
              "  <thead>\n",
              "    <tr style=\"text-align: right;\">\n",
              "      <th></th>\n",
              "      <th>year</th>\n",
              "      <th>ranking</th>\n",
              "      <th>titletext</th>\n",
              "      <th>song</th>\n",
              "      <th>songurl</th>\n",
              "      <th>band_singer</th>\n",
              "      <th>url</th>\n",
              "    </tr>\n",
              "  </thead>\n",
              "  <tbody>\n",
              "    <tr>\n",
              "      <th>0</th>\n",
              "      <td>1992</td>\n",
              "      <td>1</td>\n",
              "      <td>End of the Road</td>\n",
              "      <td>End of the Road</td>\n",
              "      <td>/wiki/End_of_the_Road_(Boyz_II_Men_song)</td>\n",
              "      <td>Boyz II Men</td>\n",
              "      <td>/wiki/Boyz_II_Men</td>\n",
              "    </tr>\n",
              "    <tr>\n",
              "      <th>72</th>\n",
              "      <td>1992</td>\n",
              "      <td>73</td>\n",
              "      <td>Blowing Kisses in the Wind</td>\n",
              "      <td>Blowing Kisses in the Wind</td>\n",
              "      <td>/wiki/Blowing_Kisses_in_the_Wind</td>\n",
              "      <td>Paula Abdul</td>\n",
              "      <td>/wiki/Paula_Abdul</td>\n",
              "    </tr>\n",
              "    <tr>\n",
              "      <th>71</th>\n",
              "      <td>1992</td>\n",
              "      <td>72</td>\n",
              "      <td>Everything About You</td>\n",
              "      <td>Everything About You</td>\n",
              "      <td>/wiki/Everything_About_You_(Ugly_Kid_Joe_song)</td>\n",
              "      <td>Ugly Kid Joe</td>\n",
              "      <td>/wiki/Ugly_Kid_Joe</td>\n",
              "    </tr>\n",
              "    <tr>\n",
              "      <th>70</th>\n",
              "      <td>1992</td>\n",
              "      <td>71</td>\n",
              "      <td>Friday I'm in Love</td>\n",
              "      <td>Friday I'm in Love</td>\n",
              "      <td>/wiki/Friday_I%27m_in_Love</td>\n",
              "      <td>The Cure</td>\n",
              "      <td>/wiki/The_Cure</td>\n",
              "    </tr>\n",
              "    <tr>\n",
              "      <th>69</th>\n",
              "      <td>1992</td>\n",
              "      <td>70</td>\n",
              "      <td>Do I Have to Say the Words?</td>\n",
              "      <td>Do I Have to Say the Words?</td>\n",
              "      <td>/wiki/Do_I_Have_to_Say_the_Words%3F</td>\n",
              "      <td>Bryan Adams</td>\n",
              "      <td>/wiki/Bryan_Adams</td>\n",
              "    </tr>\n",
              "  </tbody>\n",
              "</table>\n",
              "</div>\n",
              "      <button class=\"colab-df-convert\" onclick=\"convertToInteractive('df-2904172a-81f3-4207-8abd-efbebf144d6b')\"\n",
              "              title=\"Convert this dataframe to an interactive table.\"\n",
              "              style=\"display:none;\">\n",
              "        \n",
              "  <svg xmlns=\"http://www.w3.org/2000/svg\" height=\"24px\"viewBox=\"0 0 24 24\"\n",
              "       width=\"24px\">\n",
              "    <path d=\"M0 0h24v24H0V0z\" fill=\"none\"/>\n",
              "    <path d=\"M18.56 5.44l.94 2.06.94-2.06 2.06-.94-2.06-.94-.94-2.06-.94 2.06-2.06.94zm-11 1L8.5 8.5l.94-2.06 2.06-.94-2.06-.94L8.5 2.5l-.94 2.06-2.06.94zm10 10l.94 2.06.94-2.06 2.06-.94-2.06-.94-.94-2.06-.94 2.06-2.06.94z\"/><path d=\"M17.41 7.96l-1.37-1.37c-.4-.4-.92-.59-1.43-.59-.52 0-1.04.2-1.43.59L10.3 9.45l-7.72 7.72c-.78.78-.78 2.05 0 2.83L4 21.41c.39.39.9.59 1.41.59.51 0 1.02-.2 1.41-.59l7.78-7.78 2.81-2.81c.8-.78.8-2.07 0-2.86zM5.41 20L4 18.59l7.72-7.72 1.47 1.35L5.41 20z\"/>\n",
              "  </svg>\n",
              "      </button>\n",
              "      \n",
              "  <style>\n",
              "    .colab-df-container {\n",
              "      display:flex;\n",
              "      flex-wrap:wrap;\n",
              "      gap: 12px;\n",
              "    }\n",
              "\n",
              "    .colab-df-convert {\n",
              "      background-color: #E8F0FE;\n",
              "      border: none;\n",
              "      border-radius: 50%;\n",
              "      cursor: pointer;\n",
              "      display: none;\n",
              "      fill: #1967D2;\n",
              "      height: 32px;\n",
              "      padding: 0 0 0 0;\n",
              "      width: 32px;\n",
              "    }\n",
              "\n",
              "    .colab-df-convert:hover {\n",
              "      background-color: #E2EBFA;\n",
              "      box-shadow: 0px 1px 2px rgba(60, 64, 67, 0.3), 0px 1px 3px 1px rgba(60, 64, 67, 0.15);\n",
              "      fill: #174EA6;\n",
              "    }\n",
              "\n",
              "    [theme=dark] .colab-df-convert {\n",
              "      background-color: #3B4455;\n",
              "      fill: #D2E3FC;\n",
              "    }\n",
              "\n",
              "    [theme=dark] .colab-df-convert:hover {\n",
              "      background-color: #434B5C;\n",
              "      box-shadow: 0px 1px 3px 1px rgba(0, 0, 0, 0.15);\n",
              "      filter: drop-shadow(0px 1px 2px rgba(0, 0, 0, 0.3));\n",
              "      fill: #FFFFFF;\n",
              "    }\n",
              "  </style>\n",
              "\n",
              "      <script>\n",
              "        const buttonEl =\n",
              "          document.querySelector('#df-2904172a-81f3-4207-8abd-efbebf144d6b button.colab-df-convert');\n",
              "        buttonEl.style.display =\n",
              "          google.colab.kernel.accessAllowed ? 'block' : 'none';\n",
              "\n",
              "        async function convertToInteractive(key) {\n",
              "          const element = document.querySelector('#df-2904172a-81f3-4207-8abd-efbebf144d6b');\n",
              "          const dataTable =\n",
              "            await google.colab.kernel.invokeFunction('convertToInteractive',\n",
              "                                                     [key], {});\n",
              "          if (!dataTable) return;\n",
              "\n",
              "          const docLinkHtml = 'Like what you see? Visit the ' +\n",
              "            '<a target=\"_blank\" href=https://colab.research.google.com/notebooks/data_table.ipynb>data table notebook</a>'\n",
              "            + ' to learn more about interactive tables.';\n",
              "          element.innerHTML = '';\n",
              "          dataTable['output_type'] = 'display_data';\n",
              "          await google.colab.output.renderOutput(dataTable, element);\n",
              "          const docLink = document.createElement('div');\n",
              "          docLink.innerHTML = docLinkHtml;\n",
              "          element.appendChild(docLink);\n",
              "        }\n",
              "      </script>\n",
              "    </div>\n",
              "  </div>\n",
              "  "
            ],
            "text/plain": [
              "    year  ranking  ...   band_singer                 url\n",
              "0   1992        1  ...   Boyz II Men   /wiki/Boyz_II_Men\n",
              "72  1992       73  ...   Paula Abdul   /wiki/Paula_Abdul\n",
              "71  1992       72  ...  Ugly Kid Joe  /wiki/Ugly_Kid_Joe\n",
              "70  1992       71  ...      The Cure      /wiki/The_Cure\n",
              "69  1992       70  ...   Bryan Adams   /wiki/Bryan_Adams\n",
              "\n",
              "[5 rows x 7 columns]"
            ]
          },
          "metadata": {},
          "execution_count": 38
        }
      ],
      "source": [
        "billboardtop=billboardtop.sort_values('year')\n",
        "billboardtop.head()"
      ]
    },
    {
      "cell_type": "code",
      "execution_count": null,
      "metadata": {
        "scrolled": true,
        "colab": {
          "base_uri": "https://localhost:8080/"
        },
        "id": "tDjld8NwDXEL",
        "outputId": "e05b811e-bef3-4a3e-e323-375d5bd1f009"
      },
      "outputs": [
        {
          "output_type": "execute_result",
          "data": {
            "text/plain": [
              "0      <!DOCTYPE html>\\n<html class=\"client-nojs\" lan...\n",
              "72     <!DOCTYPE html>\\n<html class=\"client-nojs\" lan...\n",
              "71     <!DOCTYPE html>\\n<html class=\"client-nojs\" lan...\n",
              "70     <!DOCTYPE html>\\n<html class=\"client-nojs\" lan...\n",
              "69     <!DOCTYPE html>\\n<html class=\"client-nojs\" lan...\n",
              "                             ...                        \n",
              "227    <!DOCTYPE html>\\n<html class=\"client-nojs\" lan...\n",
              "226    <!DOCTYPE html>\\n<html class=\"client-nojs\" lan...\n",
              "298    <!DOCTYPE html>\\n<html class=\"client-nojs\" lan...\n",
              "235    <!DOCTYPE html>\\n<html class=\"client-nojs\" lan...\n",
              "299    <!DOCTYPE html>\\n<html class=\"client-nojs\" lan...\n",
              "Name: url, Length: 300, dtype: object"
            ]
          },
          "metadata": {},
          "execution_count": 39
        }
      ],
      "source": [
        "# Here we are populating the url cache\n",
        "# Note that this function will take around 20 minutes to run as we are requesting for several pages\n",
        "# This function is designed to be run again and again: it just tries to make sure that there are no unresolved pages left. \n",
        "billboardtop[\"url\"].apply(get_page)"
      ]
    },
    {
      "cell_type": "code",
      "execution_count": null,
      "metadata": {
        "scrolled": true,
        "colab": {
          "base_uri": "https://localhost:8080/"
        },
        "id": "NQZlk8zfDXEL",
        "outputId": "709bd345-14e0-48f4-90c0-2278ca43dbc9"
      },
      "outputs": [
        {
          "output_type": "stream",
          "name": "stdout",
          "text": [
            "0\n",
            "Did we get all the URLs? True\n"
          ]
        }
      ],
      "source": [
        "# Let us make sure that there are no unresolved pages\n",
        "# The sum below should be 0, and the boolean True. If that is not the case, run the above cell again until you get a sum of 0 and a boolean True\n",
        "print (np.sum([(urlcache[k]==1) or (urlcache[k]==2) and isinstance(k,str) for k in urlcache]))\n",
        "print (\"Did we get all the URLs?\",len(billboardtop.url.unique())==len(urlcache))"
      ]
    },
    {
      "cell_type": "code",
      "execution_count": null,
      "metadata": {
        "id": "7B6QPKkmDXEL"
      },
      "outputs": [],
      "source": [
        "# Let's save the `urlcache` and remove the old object. \n",
        "# your code here \n",
        "with open('/content/drive/MyDrive/urlcache.json', 'wb') as fp:\n",
        "    pickle.dump(urlcache, fp)"
      ]
    },
    {
      "cell_type": "markdown",
      "metadata": {
        "id": "FBo_NeHMDXEL"
      },
      "source": [
        "**1.2** Parse the HTML retrieved to extract genre of the artist, date of birth, years active and other artist information."
      ]
    },
    {
      "cell_type": "markdown",
      "metadata": {
        "id": "hcfD9wI5DXEM"
      },
      "source": [
        "Before parsing, it is important to note that Wikipedia has defined the same genre in a few different ways. Your parsing code will pick these up as different and new as they all differ with the alphabet case or an underscore instead of a hyphen.\n",
        "\n",
        "We have defined a function to ensure that we have the correct representation of the number of artists in a particular genre. "
      ]
    },
    {
      "cell_type": "code",
      "execution_count": null,
      "metadata": {
        "id": "78a4VSjoDXEM"
      },
      "outputs": [],
      "source": [
        "genres_duplicates={'/wiki/Adult_Contemporary_music':'/wiki/Adult_contemporary',\n",
        " '/wiki/Adult_contemporary_music':'/wiki/Adult_contemporary',\n",
        "'/wiki/Afrobeat':'/wiki/Afrobeats',\n",
        "'/wiki/Alternative_rock':'/wiki/Alternative_Rock',\n",
        "'/wiki/Avant-garde':'/wiki/Avant-garde_music',\n",
        "'/wiki/Blues':'/wiki/Blues_music',\n",
        "'/wiki/Comedy_hip-hop':'/wiki/Comedy_hip_hop',\n",
        "'/wiki/Contemporary_R%26B':'/wiki/Contemporary_R%26B_music',\n",
        "'/wiki/Contemporary_folk':'/wiki/Contemporary_folk_music',\n",
        "'/wiki/Country_Folk':'/wiki/Country_folk',\n",
        "'/wiki/Dance_pop':'/wiki/Dance-pop',\n",
        "'/wiki/East_Coast_hip_hop':'/wiki/East_coast_hip_hop',\n",
        "'/wiki/Electronic_Dance_Music':'/wiki/Electronic_dance_music',\n",
        "'/wiki/Electronica':'/wiki/Electronica_music',\n",
        "'/wiki/Emo':'/wiki/Emo_music',\n",
        "'/wiki/Electropop':'/wiki/Electro-pop',\n",
        "'/wiki/Folk-pop':'/wiki/Folk_pop',\n",
        "'/wiki/Funk':'/wiki/Funk_music',\n",
        "'/wiki/Grime_(music_genre)':'/wiki/Grime_music',\n",
        "'/wiki/Gangsta_Rap':'/wiki/Gangsta_rap',\n",
        "'/wiki/Hip_Hop_music': '/wiki/Hip_hop','/wiki/Hip_hop_music':'/wiki/Hip_hop',\n",
        "'/wiki/Hyphy':'/wiki/Hyphy_music',\n",
        "'/wiki/Latin_music':'/wiki/Latin_music_(genre)',\n",
        "'/wiki/West_Coast_hip_hop':'/wiki/West_coast_hip_hop',\n",
        "'/wiki/Southern_Hip_Hop':'/wiki/Southern_hip_hop',\n",
        "'/wiki/Ska':'/wiki/Ska_music',\n",
        "'/wiki/Pop-rock':'/wiki/Pop_rock',\n",
        "'/wiki/Pop_Music':'/wiki/Pop_music',\n",
        "'/wiki/Nu_metal':'/wiki/Nu_metal_music',\n",
        "'/wiki/Hard_Rock':'/wiki/Hard_rock',\n",
        "'/wiki/Pop_Rock':'/wiki/Pop_rock',\n",
        "'/wiki/Post-Grunge':'/wiki/Post-grunge',\n",
        "'/wiki/SoundCloud_rap':'/wiki/Soundcloud_rap'}\n",
        "\n",
        "def genre_duplicates(genres):\n",
        "    for i in range(len(genres)):\n",
        "        if genres[i] in genres_duplicates.keys():\n",
        "            genres[i]=genres_duplicates[genres[i]]\n",
        "    return genres "
      ]
    },
    {
      "cell_type": "markdown",
      "metadata": {
        "id": "uGzUrpPfDXEM"
      },
      "source": [
        "Please write the function `singer_band_info` according to the following specification."
      ]
    },
    {
      "cell_type": "code",
      "execution_count": null,
      "metadata": {
        "id": "0gSd_W_7DXEM"
      },
      "outputs": [],
      "source": [
        "\"\"\"\n",
        "Function\n",
        "--------\n",
        "singer_band_info\n",
        "\n",
        "Inputs\n",
        "------\n",
        "url: the url\n",
        "page_text: the text associated with the url\n",
        "   \n",
        "Returns\n",
        "-------\n",
        "A dictionary with the following data:\n",
        "    url: copy the input argument url into this value\n",
        "    genres: the genres that the band or singer works in\n",
        "    born: the artist's birthday\n",
        "    ya: years active variable\n",
        "\n",
        "Notes\n",
        "-----\n",
        "See description above. Also note that some of the genres urls might require a \n",
        "bit of care and special handling.\n",
        "\"\"\"\n",
        "# your code here \n",
        "def singer_band_info(url, page_text):\n",
        "    flag = \"None\"\n",
        "    info_dict = {}\n",
        "    info_dict[\"url\"] = url\n",
        "    soup = BeautifulSoup(page_text, \"html.parser\")\n",
        "    table_rows = soup.find_all(\"tr\")\n",
        "    for i in table_rows:\n",
        "        th = i.find(\"th\", attrs ={\"class\":\"infobox-label\"})\n",
        "        if th!= None:\n",
        "            #print(th.get_text())\n",
        "            z =th.get_text()\n",
        "            if z == \"Years active\":\n",
        "                info_dict[\"ya\"] = i.find(\"td\",attrs={\"class\":\"infobox-data\"}).get_text()\n",
        "            if z == \"Genres\":\n",
        "                #print(i.find(\"td\",attrs={\"class\":\"infobox-data\"}).get_text())\n",
        "                li = i.find(\"td\",attrs={\"class\":\"infobox-data\"})\n",
        "                li = li.find_all(\"a\")\n",
        "                for k in li:\n",
        "                    info_dict.setdefault(\"genre\", []).append(k.get(\"href\"))\n",
        "            if \"ya\" not in info_dict.keys():\n",
        "                info_dict[\"ya\"] = \"None\"\n",
        "        table_d = i.find_all(\"td\", attrs={\"class\":\"infobox-data\"})\n",
        "        for j in table_d:\n",
        "            try:\n",
        "                born = i.find(\"span\", attrs = {\"class\":\"bday\"}).get_text()\n",
        "            except:\n",
        "                born = \"None\"\n",
        "            if(born != \"None\"):\n",
        "                flag = born #make sure no parenthesis later\n",
        "    if \"genre\" not in info_dict.keys():\n",
        "        info_dict[\"genre\"] = \"None\"\n",
        "    info_dict[\"born\"] = flag\n",
        "    return info_dict"
      ]
    },
    {
      "cell_type": "code",
      "execution_count": null,
      "metadata": {
        "id": "d5XtI_FzDXEM"
      },
      "outputs": [],
      "source": [
        "singer_band_info_list = []\n",
        "for key, value in urlcache.items():\n",
        "    x = singer_band_info(key, urlcache[key])\n",
        "    if x[\"genre\"] != \"None\":\n",
        "      x[\"genre\"] = genre_duplicates(x[\"genre\"])\n",
        "    singer_band_info_list.append(x)"
      ]
    },
    {
      "cell_type": "code",
      "execution_count": null,
      "metadata": {
        "id": "HLcB4CmnDXEM"
      },
      "outputs": [],
      "source": [
        "#Store the list and delete the variable\n",
        "with open(\"/content/drive/MyDrive/singer_band_info_list\", \"wb\") as fp:   #Pickling\n",
        "    pickle.dump(singer_band_info_list, fp)"
      ]
    },
    {
      "cell_type": "code",
      "source": [
        "with open(\"/content/drive/MyDrive/singer_band_info_list\", \"rb\") as fp:   # Unpickling\n",
        "    singer_band_info_list = pickle.load(fp)\n"
      ],
      "metadata": {
        "id": "YenREd-DNstw"
      },
      "execution_count": null,
      "outputs": []
    },
    {
      "cell_type": "markdown",
      "metadata": {
        "id": "BTisKg0ZDXEN"
      },
      "source": [
        "#### Question 2: Construct a DataFrame from parsed data"
      ]
    },
    {
      "cell_type": "markdown",
      "metadata": {
        "id": "QlH8-zidDXEN"
      },
      "source": [
        "**2.1** Construct a dataframe from the list `singer_band_info_list`."
      ]
    },
    {
      "cell_type": "code",
      "execution_count": null,
      "metadata": {
        "scrolled": true,
        "id": "VZgd4I91DXEN"
      },
      "outputs": [],
      "source": [
        "# your code here \n",
        "df = pd.DataFrame(singer_band_info_list)"
      ]
    },
    {
      "cell_type": "code",
      "source": [
        "df.head()"
      ],
      "metadata": {
        "colab": {
          "base_uri": "https://localhost:8080/",
          "height": 206
        },
        "id": "bpT0uBYCK23P",
        "outputId": "5de2c8c7-831c-467f-9f5a-6512d2d14a4c"
      },
      "execution_count": null,
      "outputs": [
        {
          "output_type": "execute_result",
          "data": {
            "text/html": [
              "\n",
              "  <div id=\"df-00c1baf3-f0aa-4d77-bdbf-082614e1bba3\">\n",
              "    <div class=\"colab-df-container\">\n",
              "      <div>\n",
              "<style scoped>\n",
              "    .dataframe tbody tr th:only-of-type {\n",
              "        vertical-align: middle;\n",
              "    }\n",
              "\n",
              "    .dataframe tbody tr th {\n",
              "        vertical-align: top;\n",
              "    }\n",
              "\n",
              "    .dataframe thead th {\n",
              "        text-align: right;\n",
              "    }\n",
              "</style>\n",
              "<table border=\"1\" class=\"dataframe\">\n",
              "  <thead>\n",
              "    <tr style=\"text-align: right;\">\n",
              "      <th></th>\n",
              "      <th>url</th>\n",
              "      <th>ya</th>\n",
              "      <th>genre</th>\n",
              "      <th>born</th>\n",
              "    </tr>\n",
              "  </thead>\n",
              "  <tbody>\n",
              "    <tr>\n",
              "      <th>0</th>\n",
              "      <td>/wiki/Boyz_II_Men</td>\n",
              "      <td>1988–present[1]</td>\n",
              "      <td>[/wiki/Contemporary_R%26B_music, /wiki/Soul_mu...</td>\n",
              "      <td>None</td>\n",
              "    </tr>\n",
              "    <tr>\n",
              "      <th>1</th>\n",
              "      <td>/wiki/Paula_Abdul</td>\n",
              "      <td>None</td>\n",
              "      <td>[/wiki/Contemporary_R%26B_music, /wiki/Pop_mus...</td>\n",
              "      <td>1962-06-19</td>\n",
              "    </tr>\n",
              "    <tr>\n",
              "      <th>2</th>\n",
              "      <td>/wiki/Ugly_Kid_Joe</td>\n",
              "      <td>\\n1987–1997\\n2010–present\\n</td>\n",
              "      <td>[/wiki/Alternative_metal, /wiki/Hard_rock, /wi...</td>\n",
              "      <td>None</td>\n",
              "    </tr>\n",
              "    <tr>\n",
              "      <th>3</th>\n",
              "      <td>/wiki/The_Cure</td>\n",
              "      <td>1978–present</td>\n",
              "      <td>[/wiki/Gothic_rock, /wiki/Post-punk, /wiki/Alt...</td>\n",
              "      <td>None</td>\n",
              "    </tr>\n",
              "    <tr>\n",
              "      <th>4</th>\n",
              "      <td>/wiki/Bryan_Adams</td>\n",
              "      <td>1975–present</td>\n",
              "      <td>[/wiki/Rock_music, #cite_note-1, /wiki/Pop_roc...</td>\n",
              "      <td>1959-11-05</td>\n",
              "    </tr>\n",
              "  </tbody>\n",
              "</table>\n",
              "</div>\n",
              "      <button class=\"colab-df-convert\" onclick=\"convertToInteractive('df-00c1baf3-f0aa-4d77-bdbf-082614e1bba3')\"\n",
              "              title=\"Convert this dataframe to an interactive table.\"\n",
              "              style=\"display:none;\">\n",
              "        \n",
              "  <svg xmlns=\"http://www.w3.org/2000/svg\" height=\"24px\"viewBox=\"0 0 24 24\"\n",
              "       width=\"24px\">\n",
              "    <path d=\"M0 0h24v24H0V0z\" fill=\"none\"/>\n",
              "    <path d=\"M18.56 5.44l.94 2.06.94-2.06 2.06-.94-2.06-.94-.94-2.06-.94 2.06-2.06.94zm-11 1L8.5 8.5l.94-2.06 2.06-.94-2.06-.94L8.5 2.5l-.94 2.06-2.06.94zm10 10l.94 2.06.94-2.06 2.06-.94-2.06-.94-.94-2.06-.94 2.06-2.06.94z\"/><path d=\"M17.41 7.96l-1.37-1.37c-.4-.4-.92-.59-1.43-.59-.52 0-1.04.2-1.43.59L10.3 9.45l-7.72 7.72c-.78.78-.78 2.05 0 2.83L4 21.41c.39.39.9.59 1.41.59.51 0 1.02-.2 1.41-.59l7.78-7.78 2.81-2.81c.8-.78.8-2.07 0-2.86zM5.41 20L4 18.59l7.72-7.72 1.47 1.35L5.41 20z\"/>\n",
              "  </svg>\n",
              "      </button>\n",
              "      \n",
              "  <style>\n",
              "    .colab-df-container {\n",
              "      display:flex;\n",
              "      flex-wrap:wrap;\n",
              "      gap: 12px;\n",
              "    }\n",
              "\n",
              "    .colab-df-convert {\n",
              "      background-color: #E8F0FE;\n",
              "      border: none;\n",
              "      border-radius: 50%;\n",
              "      cursor: pointer;\n",
              "      display: none;\n",
              "      fill: #1967D2;\n",
              "      height: 32px;\n",
              "      padding: 0 0 0 0;\n",
              "      width: 32px;\n",
              "    }\n",
              "\n",
              "    .colab-df-convert:hover {\n",
              "      background-color: #E2EBFA;\n",
              "      box-shadow: 0px 1px 2px rgba(60, 64, 67, 0.3), 0px 1px 3px 1px rgba(60, 64, 67, 0.15);\n",
              "      fill: #174EA6;\n",
              "    }\n",
              "\n",
              "    [theme=dark] .colab-df-convert {\n",
              "      background-color: #3B4455;\n",
              "      fill: #D2E3FC;\n",
              "    }\n",
              "\n",
              "    [theme=dark] .colab-df-convert:hover {\n",
              "      background-color: #434B5C;\n",
              "      box-shadow: 0px 1px 3px 1px rgba(0, 0, 0, 0.15);\n",
              "      filter: drop-shadow(0px 1px 2px rgba(0, 0, 0, 0.3));\n",
              "      fill: #FFFFFF;\n",
              "    }\n",
              "  </style>\n",
              "\n",
              "      <script>\n",
              "        const buttonEl =\n",
              "          document.querySelector('#df-00c1baf3-f0aa-4d77-bdbf-082614e1bba3 button.colab-df-convert');\n",
              "        buttonEl.style.display =\n",
              "          google.colab.kernel.accessAllowed ? 'block' : 'none';\n",
              "\n",
              "        async function convertToInteractive(key) {\n",
              "          const element = document.querySelector('#df-00c1baf3-f0aa-4d77-bdbf-082614e1bba3');\n",
              "          const dataTable =\n",
              "            await google.colab.kernel.invokeFunction('convertToInteractive',\n",
              "                                                     [key], {});\n",
              "          if (!dataTable) return;\n",
              "\n",
              "          const docLinkHtml = 'Like what you see? Visit the ' +\n",
              "            '<a target=\"_blank\" href=https://colab.research.google.com/notebooks/data_table.ipynb>data table notebook</a>'\n",
              "            + ' to learn more about interactive tables.';\n",
              "          element.innerHTML = '';\n",
              "          dataTable['output_type'] = 'display_data';\n",
              "          await google.colab.output.renderOutput(dataTable, element);\n",
              "          const docLink = document.createElement('div');\n",
              "          docLink.innerHTML = docLinkHtml;\n",
              "          element.appendChild(docLink);\n",
              "        }\n",
              "      </script>\n",
              "    </div>\n",
              "  </div>\n",
              "  "
            ],
            "text/plain": [
              "                  url  ...        born\n",
              "0   /wiki/Boyz_II_Men  ...        None\n",
              "1   /wiki/Paula_Abdul  ...  1962-06-19\n",
              "2  /wiki/Ugly_Kid_Joe  ...        None\n",
              "3      /wiki/The_Cure  ...        None\n",
              "4   /wiki/Bryan_Adams  ...  1959-11-05\n",
              "\n",
              "[5 rows x 4 columns]"
            ]
          },
          "metadata": {},
          "execution_count": 27
        }
      ]
    },
    {
      "cell_type": "markdown",
      "metadata": {
        "id": "gGVcY3OXDXEN"
      },
      "source": [
        "**2.2** Merge billboardtop and singerbandinfo to create one dataframe."
      ]
    },
    {
      "cell_type": "code",
      "execution_count": null,
      "metadata": {
        "scrolled": true,
        "id": "0xVKuWsmDXEN"
      },
      "outputs": [],
      "source": [
        "# your code here \n",
        "new_df =billboardtop.merge(df, on=['url'])"
      ]
    },
    {
      "cell_type": "code",
      "source": [
        "new_df.head()"
      ],
      "metadata": {
        "colab": {
          "base_uri": "https://localhost:8080/",
          "height": 496
        },
        "id": "Kf8ZaMHgLjt1",
        "outputId": "9a00beff-038b-42a8-cf2e-0911ff32fd46"
      },
      "execution_count": null,
      "outputs": [
        {
          "output_type": "execute_result",
          "data": {
            "text/html": [
              "\n",
              "  <div id=\"df-79973fb5-245b-4292-b5e6-9654258fb2bb\">\n",
              "    <div class=\"colab-df-container\">\n",
              "      <div>\n",
              "<style scoped>\n",
              "    .dataframe tbody tr th:only-of-type {\n",
              "        vertical-align: middle;\n",
              "    }\n",
              "\n",
              "    .dataframe tbody tr th {\n",
              "        vertical-align: top;\n",
              "    }\n",
              "\n",
              "    .dataframe thead th {\n",
              "        text-align: right;\n",
              "    }\n",
              "</style>\n",
              "<table border=\"1\" class=\"dataframe\">\n",
              "  <thead>\n",
              "    <tr style=\"text-align: right;\">\n",
              "      <th></th>\n",
              "      <th>year</th>\n",
              "      <th>ranking</th>\n",
              "      <th>titletext</th>\n",
              "      <th>song</th>\n",
              "      <th>songurl</th>\n",
              "      <th>band_singer</th>\n",
              "      <th>url</th>\n",
              "      <th>ya</th>\n",
              "      <th>genre</th>\n",
              "      <th>born</th>\n",
              "    </tr>\n",
              "  </thead>\n",
              "  <tbody>\n",
              "    <tr>\n",
              "      <th>0</th>\n",
              "      <td>1992</td>\n",
              "      <td>1</td>\n",
              "      <td>End of the Road</td>\n",
              "      <td>End of the Road</td>\n",
              "      <td>/wiki/End_of_the_Road_(Boyz_II_Men_song)</td>\n",
              "      <td>Boyz II Men</td>\n",
              "      <td>/wiki/Boyz_II_Men</td>\n",
              "      <td>1988–present[1]</td>\n",
              "      <td>[/wiki/Contemporary_R%26B_music, /wiki/Soul_mu...</td>\n",
              "      <td>None</td>\n",
              "    </tr>\n",
              "    <tr>\n",
              "      <th>1</th>\n",
              "      <td>1992</td>\n",
              "      <td>37</td>\n",
              "      <td>It's So Hard to Say Goodbye to Yesterday</td>\n",
              "      <td>It's So Hard to Say Goodbye to Yesterday</td>\n",
              "      <td>/wiki/It%27s_So_Hard_to_Say_Goodbye_to_Yesterday</td>\n",
              "      <td>Boyz II Men</td>\n",
              "      <td>/wiki/Boyz_II_Men</td>\n",
              "      <td>1988–present[1]</td>\n",
              "      <td>[/wiki/Contemporary_R%26B_music, /wiki/Soul_mu...</td>\n",
              "      <td>None</td>\n",
              "    </tr>\n",
              "    <tr>\n",
              "      <th>2</th>\n",
              "      <td>1992</td>\n",
              "      <td>84</td>\n",
              "      <td>Uhh Ahh</td>\n",
              "      <td>Uhh Ahh</td>\n",
              "      <td>/wiki/Uhh_Ahh</td>\n",
              "      <td>Boyz II Men</td>\n",
              "      <td>/wiki/Boyz_II_Men</td>\n",
              "      <td>1988–present[1]</td>\n",
              "      <td>[/wiki/Contemporary_R%26B_music, /wiki/Soul_mu...</td>\n",
              "      <td>None</td>\n",
              "    </tr>\n",
              "    <tr>\n",
              "      <th>3</th>\n",
              "      <td>1993</td>\n",
              "      <td>1</td>\n",
              "      <td>End of the Road</td>\n",
              "      <td>End of the Road</td>\n",
              "      <td>/wiki/End_of_the_Road_(Boyz_II_Men_song)</td>\n",
              "      <td>Boyz II Men</td>\n",
              "      <td>/wiki/Boyz_II_Men</td>\n",
              "      <td>1988–present[1]</td>\n",
              "      <td>[/wiki/Contemporary_R%26B_music, /wiki/Soul_mu...</td>\n",
              "      <td>None</td>\n",
              "    </tr>\n",
              "    <tr>\n",
              "      <th>4</th>\n",
              "      <td>1993</td>\n",
              "      <td>37</td>\n",
              "      <td>It's So Hard to Say Goodbye to Yesterday</td>\n",
              "      <td>It's So Hard to Say Goodbye to Yesterday</td>\n",
              "      <td>/wiki/It%27s_So_Hard_to_Say_Goodbye_to_Yesterday</td>\n",
              "      <td>Boyz II Men</td>\n",
              "      <td>/wiki/Boyz_II_Men</td>\n",
              "      <td>1988–present[1]</td>\n",
              "      <td>[/wiki/Contemporary_R%26B_music, /wiki/Soul_mu...</td>\n",
              "      <td>None</td>\n",
              "    </tr>\n",
              "  </tbody>\n",
              "</table>\n",
              "</div>\n",
              "      <button class=\"colab-df-convert\" onclick=\"convertToInteractive('df-79973fb5-245b-4292-b5e6-9654258fb2bb')\"\n",
              "              title=\"Convert this dataframe to an interactive table.\"\n",
              "              style=\"display:none;\">\n",
              "        \n",
              "  <svg xmlns=\"http://www.w3.org/2000/svg\" height=\"24px\"viewBox=\"0 0 24 24\"\n",
              "       width=\"24px\">\n",
              "    <path d=\"M0 0h24v24H0V0z\" fill=\"none\"/>\n",
              "    <path d=\"M18.56 5.44l.94 2.06.94-2.06 2.06-.94-2.06-.94-.94-2.06-.94 2.06-2.06.94zm-11 1L8.5 8.5l.94-2.06 2.06-.94-2.06-.94L8.5 2.5l-.94 2.06-2.06.94zm10 10l.94 2.06.94-2.06 2.06-.94-2.06-.94-.94-2.06-.94 2.06-2.06.94z\"/><path d=\"M17.41 7.96l-1.37-1.37c-.4-.4-.92-.59-1.43-.59-.52 0-1.04.2-1.43.59L10.3 9.45l-7.72 7.72c-.78.78-.78 2.05 0 2.83L4 21.41c.39.39.9.59 1.41.59.51 0 1.02-.2 1.41-.59l7.78-7.78 2.81-2.81c.8-.78.8-2.07 0-2.86zM5.41 20L4 18.59l7.72-7.72 1.47 1.35L5.41 20z\"/>\n",
              "  </svg>\n",
              "      </button>\n",
              "      \n",
              "  <style>\n",
              "    .colab-df-container {\n",
              "      display:flex;\n",
              "      flex-wrap:wrap;\n",
              "      gap: 12px;\n",
              "    }\n",
              "\n",
              "    .colab-df-convert {\n",
              "      background-color: #E8F0FE;\n",
              "      border: none;\n",
              "      border-radius: 50%;\n",
              "      cursor: pointer;\n",
              "      display: none;\n",
              "      fill: #1967D2;\n",
              "      height: 32px;\n",
              "      padding: 0 0 0 0;\n",
              "      width: 32px;\n",
              "    }\n",
              "\n",
              "    .colab-df-convert:hover {\n",
              "      background-color: #E2EBFA;\n",
              "      box-shadow: 0px 1px 2px rgba(60, 64, 67, 0.3), 0px 1px 3px 1px rgba(60, 64, 67, 0.15);\n",
              "      fill: #174EA6;\n",
              "    }\n",
              "\n",
              "    [theme=dark] .colab-df-convert {\n",
              "      background-color: #3B4455;\n",
              "      fill: #D2E3FC;\n",
              "    }\n",
              "\n",
              "    [theme=dark] .colab-df-convert:hover {\n",
              "      background-color: #434B5C;\n",
              "      box-shadow: 0px 1px 3px 1px rgba(0, 0, 0, 0.15);\n",
              "      filter: drop-shadow(0px 1px 2px rgba(0, 0, 0, 0.3));\n",
              "      fill: #FFFFFF;\n",
              "    }\n",
              "  </style>\n",
              "\n",
              "      <script>\n",
              "        const buttonEl =\n",
              "          document.querySelector('#df-79973fb5-245b-4292-b5e6-9654258fb2bb button.colab-df-convert');\n",
              "        buttonEl.style.display =\n",
              "          google.colab.kernel.accessAllowed ? 'block' : 'none';\n",
              "\n",
              "        async function convertToInteractive(key) {\n",
              "          const element = document.querySelector('#df-79973fb5-245b-4292-b5e6-9654258fb2bb');\n",
              "          const dataTable =\n",
              "            await google.colab.kernel.invokeFunction('convertToInteractive',\n",
              "                                                     [key], {});\n",
              "          if (!dataTable) return;\n",
              "\n",
              "          const docLinkHtml = 'Like what you see? Visit the ' +\n",
              "            '<a target=\"_blank\" href=https://colab.research.google.com/notebooks/data_table.ipynb>data table notebook</a>'\n",
              "            + ' to learn more about interactive tables.';\n",
              "          element.innerHTML = '';\n",
              "          dataTable['output_type'] = 'display_data';\n",
              "          await google.colab.output.renderOutput(dataTable, element);\n",
              "          const docLink = document.createElement('div');\n",
              "          docLink.innerHTML = docLinkHtml;\n",
              "          element.appendChild(docLink);\n",
              "        }\n",
              "      </script>\n",
              "    </div>\n",
              "  </div>\n",
              "  "
            ],
            "text/plain": [
              "   year  ranking  ...                                              genre  born\n",
              "0  1992        1  ...  [/wiki/Contemporary_R%26B_music, /wiki/Soul_mu...  None\n",
              "1  1992       37  ...  [/wiki/Contemporary_R%26B_music, /wiki/Soul_mu...  None\n",
              "2  1992       84  ...  [/wiki/Contemporary_R%26B_music, /wiki/Soul_mu...  None\n",
              "3  1993        1  ...  [/wiki/Contemporary_R%26B_music, /wiki/Soul_mu...  None\n",
              "4  1993       37  ...  [/wiki/Contemporary_R%26B_music, /wiki/Soul_mu...  None\n",
              "\n",
              "[5 rows x 10 columns]"
            ]
          },
          "metadata": {},
          "execution_count": 29
        }
      ]
    },
    {
      "cell_type": "markdown",
      "metadata": {
        "id": "gEsbojqWDXEN"
      },
      "source": [
        "**2.3** Perform feature engineering on `finaldf`."
      ]
    },
    {
      "cell_type": "code",
      "execution_count": null,
      "metadata": {
        "colab": {
          "base_uri": "https://localhost:8080/",
          "height": 217
        },
        "id": "1PbTdGiIDXEN",
        "outputId": "08c3b58a-7324-47dd-fb81-da758c7511f3"
      },
      "outputs": [
        {
          "output_type": "error",
          "ename": "NameError",
          "evalue": "ignored",
          "traceback": [
            "\u001b[0;31m---------------------------------------------------------------------------\u001b[0m",
            "\u001b[0;31mNameError\u001b[0m                                 Traceback (most recent call last)",
            "\u001b[0;32m<ipython-input-30-0b8f932ced8f>\u001b[0m in \u001b[0;36m<module>\u001b[0;34m()\u001b[0m\n\u001b[1;32m      6\u001b[0m   \u001b[0;32mfor\u001b[0m \u001b[0mi\u001b[0m \u001b[0;32min\u001b[0m \u001b[0mj\u001b[0m\u001b[0;34m:\u001b[0m\u001b[0;34m\u001b[0m\u001b[0;34m\u001b[0m\u001b[0m\n\u001b[1;32m      7\u001b[0m     \u001b[0;32mif\u001b[0m \u001b[0;32mnot\u001b[0m\u001b[0;34m(\u001b[0m\u001b[0mi\u001b[0m \u001b[0;32min\u001b[0m \u001b[0mgenre_list\u001b[0m\u001b[0;34m)\u001b[0m\u001b[0;34m:\u001b[0m\u001b[0;34m\u001b[0m\u001b[0;34m\u001b[0m\u001b[0m\n\u001b[0;32m----> 8\u001b[0;31m       \u001b[0mgenre_list\u001b[0m\u001b[0;34m.\u001b[0m\u001b[0mappend\u001b[0m\u001b[0;34m(\u001b[0m\u001b[0mgenre_duplicates\u001b[0m\u001b[0;34m(\u001b[0m\u001b[0mi\u001b[0m\u001b[0;34m)\u001b[0m\u001b[0;34m)\u001b[0m\u001b[0;34m\u001b[0m\u001b[0;34m\u001b[0m\u001b[0m\n\u001b[0m\u001b[1;32m      9\u001b[0m \u001b[0mprint\u001b[0m\u001b[0;34m(\u001b[0m\u001b[0mgenre_list\u001b[0m\u001b[0;34m)\u001b[0m\u001b[0;34m\u001b[0m\u001b[0;34m\u001b[0m\u001b[0m\n",
            "\u001b[0;31mNameError\u001b[0m: name 'genre_duplicates' is not defined"
          ]
        }
      ],
      "source": [
        "# Encode genres \n",
        "# your code here\n",
        "enc_dict = {} \n",
        "genre_list = []\n",
        "for j in new_df[\"genre\"]:\n",
        "  for i in j:\n",
        "    if not(i in genre_list):\n",
        "      genre_list.append(genre_duplicates(i))\n",
        "print(genre_list)"
      ]
    },
    {
      "cell_type": "code",
      "source": [
        "for j in new_df[\"genre\"]:\n",
        "  for i in genre_list:\n",
        "    if i in j:\n",
        "      enc_dict.setdefault(i, []).append(1)\n",
        "    else:\n",
        "      enc_dict.setdefault(i, []).append(0)\n",
        "for i in enc_dict.keys():\n",
        "  enc_dict[i] = enc_dict[i][:300]"
      ],
      "metadata": {
        "id": "vJX7okK_V37Z"
      },
      "execution_count": null,
      "outputs": []
    },
    {
      "cell_type": "code",
      "execution_count": null,
      "metadata": {
        "id": "mnbBAOvODXEN"
      },
      "outputs": [],
      "source": [
        "# your code here \n",
        "genre_df = pd.DataFrame.from_dict(enc_dict)"
      ]
    },
    {
      "cell_type": "code",
      "source": [
        "genre_df.head()"
      ],
      "metadata": {
        "colab": {
          "base_uri": "https://localhost:8080/",
          "height": 49
        },
        "id": "lxkZLR7iUc6U",
        "outputId": "4307b4d8-f260-425d-832a-1b774f33035a"
      },
      "execution_count": null,
      "outputs": [
        {
          "output_type": "execute_result",
          "data": {
            "text/html": [
              "\n",
              "  <div id=\"df-e919e3bf-1cd8-4059-a181-9c6e54f84fef\">\n",
              "    <div class=\"colab-df-container\">\n",
              "      <div>\n",
              "<style scoped>\n",
              "    .dataframe tbody tr th:only-of-type {\n",
              "        vertical-align: middle;\n",
              "    }\n",
              "\n",
              "    .dataframe tbody tr th {\n",
              "        vertical-align: top;\n",
              "    }\n",
              "\n",
              "    .dataframe thead th {\n",
              "        text-align: right;\n",
              "    }\n",
              "</style>\n",
              "<table border=\"1\" class=\"dataframe\">\n",
              "  <thead>\n",
              "    <tr style=\"text-align: right;\">\n",
              "      <th></th>\n",
              "    </tr>\n",
              "  </thead>\n",
              "  <tbody>\n",
              "  </tbody>\n",
              "</table>\n",
              "</div>\n",
              "      <button class=\"colab-df-convert\" onclick=\"convertToInteractive('df-e919e3bf-1cd8-4059-a181-9c6e54f84fef')\"\n",
              "              title=\"Convert this dataframe to an interactive table.\"\n",
              "              style=\"display:none;\">\n",
              "        \n",
              "  <svg xmlns=\"http://www.w3.org/2000/svg\" height=\"24px\"viewBox=\"0 0 24 24\"\n",
              "       width=\"24px\">\n",
              "    <path d=\"M0 0h24v24H0V0z\" fill=\"none\"/>\n",
              "    <path d=\"M18.56 5.44l.94 2.06.94-2.06 2.06-.94-2.06-.94-.94-2.06-.94 2.06-2.06.94zm-11 1L8.5 8.5l.94-2.06 2.06-.94-2.06-.94L8.5 2.5l-.94 2.06-2.06.94zm10 10l.94 2.06.94-2.06 2.06-.94-2.06-.94-.94-2.06-.94 2.06-2.06.94z\"/><path d=\"M17.41 7.96l-1.37-1.37c-.4-.4-.92-.59-1.43-.59-.52 0-1.04.2-1.43.59L10.3 9.45l-7.72 7.72c-.78.78-.78 2.05 0 2.83L4 21.41c.39.39.9.59 1.41.59.51 0 1.02-.2 1.41-.59l7.78-7.78 2.81-2.81c.8-.78.8-2.07 0-2.86zM5.41 20L4 18.59l7.72-7.72 1.47 1.35L5.41 20z\"/>\n",
              "  </svg>\n",
              "      </button>\n",
              "      \n",
              "  <style>\n",
              "    .colab-df-container {\n",
              "      display:flex;\n",
              "      flex-wrap:wrap;\n",
              "      gap: 12px;\n",
              "    }\n",
              "\n",
              "    .colab-df-convert {\n",
              "      background-color: #E8F0FE;\n",
              "      border: none;\n",
              "      border-radius: 50%;\n",
              "      cursor: pointer;\n",
              "      display: none;\n",
              "      fill: #1967D2;\n",
              "      height: 32px;\n",
              "      padding: 0 0 0 0;\n",
              "      width: 32px;\n",
              "    }\n",
              "\n",
              "    .colab-df-convert:hover {\n",
              "      background-color: #E2EBFA;\n",
              "      box-shadow: 0px 1px 2px rgba(60, 64, 67, 0.3), 0px 1px 3px 1px rgba(60, 64, 67, 0.15);\n",
              "      fill: #174EA6;\n",
              "    }\n",
              "\n",
              "    [theme=dark] .colab-df-convert {\n",
              "      background-color: #3B4455;\n",
              "      fill: #D2E3FC;\n",
              "    }\n",
              "\n",
              "    [theme=dark] .colab-df-convert:hover {\n",
              "      background-color: #434B5C;\n",
              "      box-shadow: 0px 1px 3px 1px rgba(0, 0, 0, 0.15);\n",
              "      filter: drop-shadow(0px 1px 2px rgba(0, 0, 0, 0.3));\n",
              "      fill: #FFFFFF;\n",
              "    }\n",
              "  </style>\n",
              "\n",
              "      <script>\n",
              "        const buttonEl =\n",
              "          document.querySelector('#df-e919e3bf-1cd8-4059-a181-9c6e54f84fef button.colab-df-convert');\n",
              "        buttonEl.style.display =\n",
              "          google.colab.kernel.accessAllowed ? 'block' : 'none';\n",
              "\n",
              "        async function convertToInteractive(key) {\n",
              "          const element = document.querySelector('#df-e919e3bf-1cd8-4059-a181-9c6e54f84fef');\n",
              "          const dataTable =\n",
              "            await google.colab.kernel.invokeFunction('convertToInteractive',\n",
              "                                                     [key], {});\n",
              "          if (!dataTable) return;\n",
              "\n",
              "          const docLinkHtml = 'Like what you see? Visit the ' +\n",
              "            '<a target=\"_blank\" href=https://colab.research.google.com/notebooks/data_table.ipynb>data table notebook</a>'\n",
              "            + ' to learn more about interactive tables.';\n",
              "          element.innerHTML = '';\n",
              "          dataTable['output_type'] = 'display_data';\n",
              "          await google.colab.output.renderOutput(dataTable, element);\n",
              "          const docLink = document.createElement('div');\n",
              "          docLink.innerHTML = docLinkHtml;\n",
              "          element.appendChild(docLink);\n",
              "        }\n",
              "      </script>\n",
              "    </div>\n",
              "  </div>\n",
              "  "
            ],
            "text/plain": [
              "Empty DataFrame\n",
              "Columns: []\n",
              "Index: []"
            ]
          },
          "metadata": {},
          "execution_count": 33
        }
      ]
    },
    {
      "cell_type": "code",
      "source": [
        "finaldf = pd.concat([new_df, genre_df], axis = 1)\n",
        "finaldf.head()"
      ],
      "metadata": {
        "colab": {
          "base_uri": "https://localhost:8080/",
          "height": 496
        },
        "id": "MNEjHkX8Ugny",
        "outputId": "e9ee5bb3-90a8-4d75-abb5-ebb48b37bfec"
      },
      "execution_count": null,
      "outputs": [
        {
          "output_type": "execute_result",
          "data": {
            "text/html": [
              "\n",
              "  <div id=\"df-953ff333-0e71-4fc5-afe1-2a1b9e26903b\">\n",
              "    <div class=\"colab-df-container\">\n",
              "      <div>\n",
              "<style scoped>\n",
              "    .dataframe tbody tr th:only-of-type {\n",
              "        vertical-align: middle;\n",
              "    }\n",
              "\n",
              "    .dataframe tbody tr th {\n",
              "        vertical-align: top;\n",
              "    }\n",
              "\n",
              "    .dataframe thead th {\n",
              "        text-align: right;\n",
              "    }\n",
              "</style>\n",
              "<table border=\"1\" class=\"dataframe\">\n",
              "  <thead>\n",
              "    <tr style=\"text-align: right;\">\n",
              "      <th></th>\n",
              "      <th>year</th>\n",
              "      <th>ranking</th>\n",
              "      <th>titletext</th>\n",
              "      <th>song</th>\n",
              "      <th>songurl</th>\n",
              "      <th>band_singer</th>\n",
              "      <th>url</th>\n",
              "      <th>ya</th>\n",
              "      <th>genre</th>\n",
              "      <th>born</th>\n",
              "    </tr>\n",
              "  </thead>\n",
              "  <tbody>\n",
              "    <tr>\n",
              "      <th>0</th>\n",
              "      <td>1992</td>\n",
              "      <td>1</td>\n",
              "      <td>End of the Road</td>\n",
              "      <td>End of the Road</td>\n",
              "      <td>/wiki/End_of_the_Road_(Boyz_II_Men_song)</td>\n",
              "      <td>Boyz II Men</td>\n",
              "      <td>/wiki/Boyz_II_Men</td>\n",
              "      <td>1988–present[1]</td>\n",
              "      <td>[/wiki/Contemporary_R%26B_music, /wiki/Soul_mu...</td>\n",
              "      <td>None</td>\n",
              "    </tr>\n",
              "    <tr>\n",
              "      <th>1</th>\n",
              "      <td>1992</td>\n",
              "      <td>37</td>\n",
              "      <td>It's So Hard to Say Goodbye to Yesterday</td>\n",
              "      <td>It's So Hard to Say Goodbye to Yesterday</td>\n",
              "      <td>/wiki/It%27s_So_Hard_to_Say_Goodbye_to_Yesterday</td>\n",
              "      <td>Boyz II Men</td>\n",
              "      <td>/wiki/Boyz_II_Men</td>\n",
              "      <td>1988–present[1]</td>\n",
              "      <td>[/wiki/Contemporary_R%26B_music, /wiki/Soul_mu...</td>\n",
              "      <td>None</td>\n",
              "    </tr>\n",
              "    <tr>\n",
              "      <th>2</th>\n",
              "      <td>1992</td>\n",
              "      <td>84</td>\n",
              "      <td>Uhh Ahh</td>\n",
              "      <td>Uhh Ahh</td>\n",
              "      <td>/wiki/Uhh_Ahh</td>\n",
              "      <td>Boyz II Men</td>\n",
              "      <td>/wiki/Boyz_II_Men</td>\n",
              "      <td>1988–present[1]</td>\n",
              "      <td>[/wiki/Contemporary_R%26B_music, /wiki/Soul_mu...</td>\n",
              "      <td>None</td>\n",
              "    </tr>\n",
              "    <tr>\n",
              "      <th>3</th>\n",
              "      <td>1993</td>\n",
              "      <td>1</td>\n",
              "      <td>End of the Road</td>\n",
              "      <td>End of the Road</td>\n",
              "      <td>/wiki/End_of_the_Road_(Boyz_II_Men_song)</td>\n",
              "      <td>Boyz II Men</td>\n",
              "      <td>/wiki/Boyz_II_Men</td>\n",
              "      <td>1988–present[1]</td>\n",
              "      <td>[/wiki/Contemporary_R%26B_music, /wiki/Soul_mu...</td>\n",
              "      <td>None</td>\n",
              "    </tr>\n",
              "    <tr>\n",
              "      <th>4</th>\n",
              "      <td>1993</td>\n",
              "      <td>37</td>\n",
              "      <td>It's So Hard to Say Goodbye to Yesterday</td>\n",
              "      <td>It's So Hard to Say Goodbye to Yesterday</td>\n",
              "      <td>/wiki/It%27s_So_Hard_to_Say_Goodbye_to_Yesterday</td>\n",
              "      <td>Boyz II Men</td>\n",
              "      <td>/wiki/Boyz_II_Men</td>\n",
              "      <td>1988–present[1]</td>\n",
              "      <td>[/wiki/Contemporary_R%26B_music, /wiki/Soul_mu...</td>\n",
              "      <td>None</td>\n",
              "    </tr>\n",
              "  </tbody>\n",
              "</table>\n",
              "</div>\n",
              "      <button class=\"colab-df-convert\" onclick=\"convertToInteractive('df-953ff333-0e71-4fc5-afe1-2a1b9e26903b')\"\n",
              "              title=\"Convert this dataframe to an interactive table.\"\n",
              "              style=\"display:none;\">\n",
              "        \n",
              "  <svg xmlns=\"http://www.w3.org/2000/svg\" height=\"24px\"viewBox=\"0 0 24 24\"\n",
              "       width=\"24px\">\n",
              "    <path d=\"M0 0h24v24H0V0z\" fill=\"none\"/>\n",
              "    <path d=\"M18.56 5.44l.94 2.06.94-2.06 2.06-.94-2.06-.94-.94-2.06-.94 2.06-2.06.94zm-11 1L8.5 8.5l.94-2.06 2.06-.94-2.06-.94L8.5 2.5l-.94 2.06-2.06.94zm10 10l.94 2.06.94-2.06 2.06-.94-2.06-.94-.94-2.06-.94 2.06-2.06.94z\"/><path d=\"M17.41 7.96l-1.37-1.37c-.4-.4-.92-.59-1.43-.59-.52 0-1.04.2-1.43.59L10.3 9.45l-7.72 7.72c-.78.78-.78 2.05 0 2.83L4 21.41c.39.39.9.59 1.41.59.51 0 1.02-.2 1.41-.59l7.78-7.78 2.81-2.81c.8-.78.8-2.07 0-2.86zM5.41 20L4 18.59l7.72-7.72 1.47 1.35L5.41 20z\"/>\n",
              "  </svg>\n",
              "      </button>\n",
              "      \n",
              "  <style>\n",
              "    .colab-df-container {\n",
              "      display:flex;\n",
              "      flex-wrap:wrap;\n",
              "      gap: 12px;\n",
              "    }\n",
              "\n",
              "    .colab-df-convert {\n",
              "      background-color: #E8F0FE;\n",
              "      border: none;\n",
              "      border-radius: 50%;\n",
              "      cursor: pointer;\n",
              "      display: none;\n",
              "      fill: #1967D2;\n",
              "      height: 32px;\n",
              "      padding: 0 0 0 0;\n",
              "      width: 32px;\n",
              "    }\n",
              "\n",
              "    .colab-df-convert:hover {\n",
              "      background-color: #E2EBFA;\n",
              "      box-shadow: 0px 1px 2px rgba(60, 64, 67, 0.3), 0px 1px 3px 1px rgba(60, 64, 67, 0.15);\n",
              "      fill: #174EA6;\n",
              "    }\n",
              "\n",
              "    [theme=dark] .colab-df-convert {\n",
              "      background-color: #3B4455;\n",
              "      fill: #D2E3FC;\n",
              "    }\n",
              "\n",
              "    [theme=dark] .colab-df-convert:hover {\n",
              "      background-color: #434B5C;\n",
              "      box-shadow: 0px 1px 3px 1px rgba(0, 0, 0, 0.15);\n",
              "      filter: drop-shadow(0px 1px 2px rgba(0, 0, 0, 0.3));\n",
              "      fill: #FFFFFF;\n",
              "    }\n",
              "  </style>\n",
              "\n",
              "      <script>\n",
              "        const buttonEl =\n",
              "          document.querySelector('#df-953ff333-0e71-4fc5-afe1-2a1b9e26903b button.colab-df-convert');\n",
              "        buttonEl.style.display =\n",
              "          google.colab.kernel.accessAllowed ? 'block' : 'none';\n",
              "\n",
              "        async function convertToInteractive(key) {\n",
              "          const element = document.querySelector('#df-953ff333-0e71-4fc5-afe1-2a1b9e26903b');\n",
              "          const dataTable =\n",
              "            await google.colab.kernel.invokeFunction('convertToInteractive',\n",
              "                                                     [key], {});\n",
              "          if (!dataTable) return;\n",
              "\n",
              "          const docLinkHtml = 'Like what you see? Visit the ' +\n",
              "            '<a target=\"_blank\" href=https://colab.research.google.com/notebooks/data_table.ipynb>data table notebook</a>'\n",
              "            + ' to learn more about interactive tables.';\n",
              "          element.innerHTML = '';\n",
              "          dataTable['output_type'] = 'display_data';\n",
              "          await google.colab.output.renderOutput(dataTable, element);\n",
              "          const docLink = document.createElement('div');\n",
              "          docLink.innerHTML = docLinkHtml;\n",
              "          element.appendChild(docLink);\n",
              "        }\n",
              "      </script>\n",
              "    </div>\n",
              "  </div>\n",
              "  "
            ],
            "text/plain": [
              "   year  ranking  ...                                              genre  born\n",
              "0  1992        1  ...  [/wiki/Contemporary_R%26B_music, /wiki/Soul_mu...  None\n",
              "1  1992       37  ...  [/wiki/Contemporary_R%26B_music, /wiki/Soul_mu...  None\n",
              "2  1992       84  ...  [/wiki/Contemporary_R%26B_music, /wiki/Soul_mu...  None\n",
              "3  1993        1  ...  [/wiki/Contemporary_R%26B_music, /wiki/Soul_mu...  None\n",
              "4  1993       37  ...  [/wiki/Contemporary_R%26B_music, /wiki/Soul_mu...  None\n",
              "\n",
              "[5 rows x 10 columns]"
            ]
          },
          "metadata": {},
          "execution_count": 34
        }
      ]
    },
    {
      "cell_type": "markdown",
      "metadata": {
        "id": "MAWA7oWxDXEN"
      },
      "source": [
        "# Part C: Exploratory Data Analysis (EDA) [40 points]\n",
        "\n",
        "**Question 1:** What has been the trajectory of various genres in the popular zeitgeist?\n",
        "\n",
        "**1.1** [5pts] What are the 30 most popular genres?\n",
        "\n",
        "<details>\n",
        "<summary>\n",
        "<font size=\"3\" color=\"green\">\n",
        "<b>Click for Instructions</b>\n",
        "</font>\n",
        "</summary>\n",
        "\n",
        "Find the top 30 genres and plot a bar plot of these genres.<br>\n",
        "Feel free to plot any other visualizations that you can think of!\n",
        "\n",
        "- Calculate the mean of the dataframe and eliminate the first two columns (`year` and `ranking`) to get means of all the genre columns. \n",
        "- Multipy the means by 100 to get percentages.\n",
        "- Sort it in ascending order and pick the top 30.\n",
        "\n",
        "</details>\n",
        "\n",
        "**1.2** [10pts] How has the popularity of these 30 genres changed with time?\n",
        "\n",
        "<details>\n",
        "<summary>\n",
        "<font size=\"3\" color=\"green\">\n",
        "<b>Click for Instructions</b>\n",
        "</font>\n",
        "</summary>\n",
        "\n",
        "Now that we have the top 30 genres, we can understand the trajectory of these various genres with time.\n",
        "\n",
        "\n",
        "- Create a subframe of the ranking and year for each genre.\n",
        "- Next, use the the groupby() function to group by year. This will give you a dataframe that contains the rankings of every song from that genre in a given year. \n",
        "\n",
        "- Next, create a dictionary `genreinfo` keyed by genre, whose value is a tuple of 3 Pandas series: \n",
        "  - the mean of the rankings per year for that genre, \n",
        "  - the standard deviation on those rankings per year for that genre,\n",
        "  - the series groupby object for the rankings per year created from before\n",
        "\n",
        "  Here is an example of what one dictionary for one particular genre should look like.\n",
        "  This is the output of `genreinfo['/wiki/Hip_Hop']`\n",
        "  ```\n",
        "  {'meanseries': year\n",
        "  1992    45.222222\n",
        "  1993    41.843750\n",
        "  1994    48.400000\n",
        "  ..\n",
        "  2019    49.617284\n",
        "  2020    50.152941\n",
        "  'rankingseries': <pandas.core.groupby.generic.SeriesGroupBy object at 0x7f546e294a90>,\n",
        "  'stdseries': year\n",
        "  1992    28.544612\n",
        "  1993    26.908578\n",
        "  1994    28.230355\n",
        "  ....\n",
        "  2019    27.151689\n",
        "  2020    28.295846}\n",
        "  ```\n",
        "\n",
        "- Make a 10 row, 3 column small multiples plot of the 30 most popular genres.\n",
        "- Use the dictionary `genreinfo` created previously to make a plot of how the \"ranking of a genre\" has changed with time. <br>\n",
        "To do this, the mean rank achieved by songs in a genre per year forms the backbone of this plot, with the standard deviation shown.\n",
        "\n",
        "(Since a song belongs to many genres through the artist, this means that a song may be represented in multiple plots. Again, while not strictly true, this is a simplifying assumption we are making.)\n",
        "\n",
        "Here is an example plot:\n",
        "\n",
        "![SmallMultiplesExample](https://drive.google.com/uc?export=view&id=1sAp4U1aXHeBAliFYhuRCxrZf4QW6u9ug)\n",
        "\n",
        "Some instructions for the plot:\n",
        "\n",
        "1. The blue scatters are all the songs \"in\" that genre: keep them at a low alpha so one can visually see the density. \n",
        "2. The dark red points are the means. You can choose to join them if you like.\n",
        "3. The light red band uses matplotlib's `fill_between` to fill the area between `mean-std` and `mean+std`. \n",
        "4. If the standard deviation is NaN, fill up the entire y dimension with it to give a notion of large impreciseness in the measure.\n",
        "\n",
        "\n",
        "Try out different visualizations. If you have a better viz for this, by all means go for it!\n",
        "\n",
        "Use matplotlib object oriented programming!\n",
        "</details>\n",
        "\n",
        "**Question 2:** Who are the highest quality singers?\n",
        "\n",
        "**2.1** [5pts] Who are the most occurring artists in Billboard's Top 100 list?\n",
        "\n",
        "<details>\n",
        "<summary>\n",
        "<font size=\"3\" color=\"green\">\n",
        "<b>Click for Instructions</b>\n",
        "</font>\n",
        "</summary>\n",
        "\n",
        "- Count the number of times a singer appears in the top 100 over a certain time period. Consider an artist appearing twice in a year as two appearances. \n",
        "\n",
        "- Plot a bar chart of the artists who have occurred at least more than 15 times in the given time frame.\n",
        "\n",
        "</details>\n",
        "\n",
        "**2.2** [10pts] What if we used a different metric?\n",
        "\n",
        "<details>\n",
        "<summary>\n",
        "<font size=\"3\" color=\"green\">\n",
        "<b>Click for Instructions</b>\n",
        "</font>\n",
        "</summary>\n",
        "\n",
        "A singer should be scored higher if he or she appears higher in the rankings. So we'd say that a singer who appeared once at a higher and once at a lower ranking is a \"higher quality\" singer than one who appeared twice at a lower ranking. \n",
        "\n",
        "Think of a metric to do the above and plot another bar chart to determine the 'highest quality' singer.\n",
        "\n",
        "Do you notice any major differences when you change the metric?\n",
        "\n",
        "</details>\n",
        "\n",
        "**2.3** [5pts] What is the age at which singers achieve their top ranking?\n",
        "\n",
        "<details>\n",
        "<summary>\n",
        "<font size=\"3\" color=\"green\">\n",
        "<b>Click for Instructions</b>\n",
        "</font>\n",
        "</summary>\n",
        "\n",
        "Plot a histogram of the age at which artists reach their top ranking.\n",
        "\n",
        "</details>\n",
        "\n",
        "**2.4** [5pts] At what year since inception do bands reach their top rankings?\n",
        "\n",
        "<details>\n",
        "<summary>\n",
        "<font size=\"3\" color=\"green\">\n",
        "<b>Click for Instructions</b>\n",
        "</font>\n",
        "</summary>\n",
        "Make a similar calculation to plot a histogram of the years since inception at which bands reach their top ranking.\n",
        "</details>"
      ]
    },
    {
      "cell_type": "markdown",
      "metadata": {
        "id": "_IGo6FW-DXEO"
      },
      "source": [
        "### Solutions"
      ]
    },
    {
      "cell_type": "markdown",
      "metadata": {
        "id": "ZI3-EXxGDXEO"
      },
      "source": [
        "#### Question 1: What has been the trajectory of various genres in the popular zeitgeist?"
      ]
    },
    {
      "cell_type": "markdown",
      "metadata": {
        "id": "z117jq_5DXEO"
      },
      "source": [
        "1.1 What are the 30 most popular genres?"
      ]
    },
    {
      "cell_type": "code",
      "execution_count": null,
      "metadata": {
        "id": "p-edLgRADXEO"
      },
      "outputs": [],
      "source": [
        "# your code here \n",
        "df_new = finaldf.drop(columns = [\"year\", \"ranking\"])\n",
        "info_df = df_new.describe()\n",
        "popularity  = info_df.iloc[1]*100"
      ]
    },
    {
      "cell_type": "code",
      "source": [
        "idx = np.argsort(popularity.values)\n",
        "popularity = popularity[idx]"
      ],
      "metadata": {
        "id": "v9Cjqv-6ZLoy"
      },
      "execution_count": null,
      "outputs": []
    },
    {
      "cell_type": "code",
      "source": [
        "popularity = popularity[-30:]"
      ],
      "metadata": {
        "id": "9pvxdPllaLra"
      },
      "execution_count": null,
      "outputs": []
    },
    {
      "cell_type": "code",
      "source": [
        "ax = popularity.plot.bar(x = \"genre\", y = \"percentage\")\n",
        "ax.set_xlabel(\"genre\")\n",
        "ax.set_ylabel(\"percentages\")"
      ],
      "metadata": {
        "colab": {
          "base_uri": "https://localhost:8080/",
          "height": 468
        },
        "id": "xBKri7HiZv5o",
        "outputId": "cc9b83e0-8db3-4b8e-e20c-f9216a4ec536"
      },
      "execution_count": null,
      "outputs": [
        {
          "output_type": "execute_result",
          "data": {
            "text/plain": [
              "Text(0, 0.5, 'percentages')"
            ]
          },
          "metadata": {},
          "execution_count": 231
        },
        {
          "output_type": "display_data",
          "data": {
            "image/png": "[encoded data removed]",
            "text/plain": [
              "<Figure size 432x288 with 1 Axes>"
            ]
          },
          "metadata": {
            "needs_background": "light"
          }
        }
      ]
    },
    {
      "cell_type": "markdown",
      "metadata": {
        "id": "3zJC4SWvDXEO"
      },
      "source": [
        "1.2 How has the popularity of these 30 genres changed with time?"
      ]
    },
    {
      "cell_type": "code",
      "execution_count": null,
      "metadata": {
        "id": "MnkZ3lb9DXEO"
      },
      "outputs": [],
      "source": [
        "# your code here \n",
        "popularity_1992 = finaldf[finaldf[\"year\"] == 1992].drop(columns = [\"year\", \"ranking\"]).describe().iloc[1]*100 \n",
        "popularity_1993 = finaldf[finaldf[\"year\"] == 1993].drop(columns = [\"year\", \"ranking\"]).describe().iloc[1]*100  \n",
        "popularity_2021 = finaldf[finaldf[\"year\"] == 2021].drop(columns = [\"year\", \"ranking\"]).describe().iloc[1]*100 "
      ]
    },
    {
      "cell_type": "code",
      "source": [
        "lis = list(enc_dict.keys())\n",
        "lis2 = [lis[i] for i in idx]\n",
        "df = pd.DataFrame({'1992': popularity_1992,\n",
        "                   '1993': popularity_1993,\n",
        "                   '2021':popularity_2021}, index = lis2)\n",
        "ax = df.plot.bar(rot=90, color = [\"red\", \"blue\", \"green\"])\n",
        "ax.set_xlabel(\"genre\")\n",
        "ax.set_ylabel(\"percentages\")"
      ],
      "metadata": {
        "colab": {
          "base_uri": "https://localhost:8080/",
          "height": 498
        },
        "id": "3vxyLDFLcZi3",
        "outputId": "b5bffa22-fd09-4685-9c9c-bef4f45a8b01"
      },
      "execution_count": null,
      "outputs": [
        {
          "output_type": "execute_result",
          "data": {
            "text/plain": [
              "Text(0, 0.5, 'percentages')"
            ]
          },
          "metadata": {},
          "execution_count": 232
        },
        {
          "output_type": "display_data",
          "data": {
            "image/png": "[encoded data removed]",
            "text/plain": [
              "<Figure size 432x288 with 1 Axes>"
            ]
          },
          "metadata": {
            "needs_background": "light"
          }
        }
      ]
    },
    {
      "cell_type": "markdown",
      "metadata": {
        "id": "qquDsFT5DXEO"
      },
      "source": [
        "**What trends do you see?**\n",
        "\n",
        "Write a paragraph, touching on which genres are the most popular, and how this popularity has changed over time."
      ]
    },
    {
      "cell_type": "markdown",
      "metadata": {
        "id": "Ygn-EbbJDXEP"
      },
      "source": [
        "R&B, Soul Music and Pop are the most popular genres. Moreover, their popularity has not changed over time."
      ]
    },
    {
      "cell_type": "markdown",
      "metadata": {
        "id": "wjbgH9LkDXEP"
      },
      "source": [
        "#### Question 2: Who are the highest quality singers?"
      ]
    },
    {
      "cell_type": "markdown",
      "metadata": {
        "id": "0l39TLi3DXEP"
      },
      "source": [
        "2.1 Who are the most occurring artists in Billboard's Top 100 list?\n",
        "\n"
      ]
    },
    {
      "cell_type": "code",
      "execution_count": null,
      "metadata": {
        "colab": {
          "base_uri": "https://localhost:8080/"
        },
        "id": "yciSPQbjDXEP",
        "outputId": "a96ced7b-1b1b-4a25-b526-3945d9d932ca"
      },
      "outputs": [
        {
          "output_type": "stream",
          "name": "stdout",
          "text": [
            "Most occuring artists:\n",
            " Boyz II Men    9\n",
            "Name: band_singer, dtype: int64\n"
          ]
        }
      ],
      "source": [
        "# your code here \n",
        "most_occuring = billboardtop[\"band_singer\"].value_counts()\n",
        "print(\"Most occuring artists:\\n\", most_occuring.sort_values(ascending = False)[:1])"
      ]
    },
    {
      "cell_type": "markdown",
      "source": [
        "Boys II Men are the most occuring artists"
      ],
      "metadata": {
        "id": "TIPz1uD9h_js"
      }
    },
    {
      "cell_type": "markdown",
      "metadata": {
        "id": "LC9wnhm7DXEP"
      },
      "source": [
        "2.2 What if we used a different metric?"
      ]
    },
    {
      "cell_type": "code",
      "source": [
        "billboardtop.head()"
      ],
      "metadata": {
        "colab": {
          "base_uri": "https://localhost:8080/",
          "height": 250
        },
        "id": "Z-IQ22LMi5IJ",
        "outputId": "d55d57e2-62ce-4b99-cfcc-ed3ab268debb"
      },
      "execution_count": null,
      "outputs": [
        {
          "output_type": "execute_result",
          "data": {
            "text/html": [
              "\n",
              "  <div id=\"df-f2ad3c70-49b2-4048-806e-8845351ce8ab\">\n",
              "    <div class=\"colab-df-container\">\n",
              "      <div>\n",
              "<style scoped>\n",
              "    .dataframe tbody tr th:only-of-type {\n",
              "        vertical-align: middle;\n",
              "    }\n",
              "\n",
              "    .dataframe tbody tr th {\n",
              "        vertical-align: top;\n",
              "    }\n",
              "\n",
              "    .dataframe thead th {\n",
              "        text-align: right;\n",
              "    }\n",
              "</style>\n",
              "<table border=\"1\" class=\"dataframe\">\n",
              "  <thead>\n",
              "    <tr style=\"text-align: right;\">\n",
              "      <th></th>\n",
              "      <th>year</th>\n",
              "      <th>ranking</th>\n",
              "      <th>titletext</th>\n",
              "      <th>song</th>\n",
              "      <th>songurl</th>\n",
              "      <th>band_singer</th>\n",
              "      <th>url</th>\n",
              "    </tr>\n",
              "  </thead>\n",
              "  <tbody>\n",
              "    <tr>\n",
              "      <th>0</th>\n",
              "      <td>1992</td>\n",
              "      <td>1</td>\n",
              "      <td>End of the Road</td>\n",
              "      <td>End of the Road</td>\n",
              "      <td>/wiki/End_of_the_Road_(Boyz_II_Men_song)</td>\n",
              "      <td>Boyz II Men</td>\n",
              "      <td>/wiki/Boyz_II_Men</td>\n",
              "    </tr>\n",
              "    <tr>\n",
              "      <th>72</th>\n",
              "      <td>1992</td>\n",
              "      <td>73</td>\n",
              "      <td>Blowing Kisses in the Wind</td>\n",
              "      <td>Blowing Kisses in the Wind</td>\n",
              "      <td>/wiki/Blowing_Kisses_in_the_Wind</td>\n",
              "      <td>Paula Abdul</td>\n",
              "      <td>/wiki/Paula_Abdul</td>\n",
              "    </tr>\n",
              "    <tr>\n",
              "      <th>71</th>\n",
              "      <td>1992</td>\n",
              "      <td>72</td>\n",
              "      <td>Everything About You</td>\n",
              "      <td>Everything About You</td>\n",
              "      <td>/wiki/Everything_About_You_(Ugly_Kid_Joe_song)</td>\n",
              "      <td>Ugly Kid Joe</td>\n",
              "      <td>/wiki/Ugly_Kid_Joe</td>\n",
              "    </tr>\n",
              "    <tr>\n",
              "      <th>70</th>\n",
              "      <td>1992</td>\n",
              "      <td>71</td>\n",
              "      <td>Friday I'm in Love</td>\n",
              "      <td>Friday I'm in Love</td>\n",
              "      <td>/wiki/Friday_I%27m_in_Love</td>\n",
              "      <td>The Cure</td>\n",
              "      <td>/wiki/The_Cure</td>\n",
              "    </tr>\n",
              "    <tr>\n",
              "      <th>69</th>\n",
              "      <td>1992</td>\n",
              "      <td>70</td>\n",
              "      <td>Do I Have to Say the Words?</td>\n",
              "      <td>Do I Have to Say the Words?</td>\n",
              "      <td>/wiki/Do_I_Have_to_Say_the_Words%3F</td>\n",
              "      <td>Bryan Adams</td>\n",
              "      <td>/wiki/Bryan_Adams</td>\n",
              "    </tr>\n",
              "  </tbody>\n",
              "</table>\n",
              "</div>\n",
              "      <button class=\"colab-df-convert\" onclick=\"convertToInteractive('df-f2ad3c70-49b2-4048-806e-8845351ce8ab')\"\n",
              "              title=\"Convert this dataframe to an interactive table.\"\n",
              "              style=\"display:none;\">\n",
              "        \n",
              "  <svg xmlns=\"http://www.w3.org/2000/svg\" height=\"24px\"viewBox=\"0 0 24 24\"\n",
              "       width=\"24px\">\n",
              "    <path d=\"M0 0h24v24H0V0z\" fill=\"none\"/>\n",
              "    <path d=\"M18.56 5.44l.94 2.06.94-2.06 2.06-.94-2.06-.94-.94-2.06-.94 2.06-2.06.94zm-11 1L8.5 8.5l.94-2.06 2.06-.94-2.06-.94L8.5 2.5l-.94 2.06-2.06.94zm10 10l.94 2.06.94-2.06 2.06-.94-2.06-.94-.94-2.06-.94 2.06-2.06.94z\"/><path d=\"M17.41 7.96l-1.37-1.37c-.4-.4-.92-.59-1.43-.59-.52 0-1.04.2-1.43.59L10.3 9.45l-7.72 7.72c-.78.78-.78 2.05 0 2.83L4 21.41c.39.39.9.59 1.41.59.51 0 1.02-.2 1.41-.59l7.78-7.78 2.81-2.81c.8-.78.8-2.07 0-2.86zM5.41 20L4 18.59l7.72-7.72 1.47 1.35L5.41 20z\"/>\n",
              "  </svg>\n",
              "      </button>\n",
              "      \n",
              "  <style>\n",
              "    .colab-df-container {\n",
              "      display:flex;\n",
              "      flex-wrap:wrap;\n",
              "      gap: 12px;\n",
              "    }\n",
              "\n",
              "    .colab-df-convert {\n",
              "      background-color: #E8F0FE;\n",
              "      border: none;\n",
              "      border-radius: 50%;\n",
              "      cursor: pointer;\n",
              "      display: none;\n",
              "      fill: #1967D2;\n",
              "      height: 32px;\n",
              "      padding: 0 0 0 0;\n",
              "      width: 32px;\n",
              "    }\n",
              "\n",
              "    .colab-df-convert:hover {\n",
              "      background-color: #E2EBFA;\n",
              "      box-shadow: 0px 1px 2px rgba(60, 64, 67, 0.3), 0px 1px 3px 1px rgba(60, 64, 67, 0.15);\n",
              "      fill: #174EA6;\n",
              "    }\n",
              "\n",
              "    [theme=dark] .colab-df-convert {\n",
              "      background-color: #3B4455;\n",
              "      fill: #D2E3FC;\n",
              "    }\n",
              "\n",
              "    [theme=dark] .colab-df-convert:hover {\n",
              "      background-color: #434B5C;\n",
              "      box-shadow: 0px 1px 3px 1px rgba(0, 0, 0, 0.15);\n",
              "      filter: drop-shadow(0px 1px 2px rgba(0, 0, 0, 0.3));\n",
              "      fill: #FFFFFF;\n",
              "    }\n",
              "  </style>\n",
              "\n",
              "      <script>\n",
              "        const buttonEl =\n",
              "          document.querySelector('#df-f2ad3c70-49b2-4048-806e-8845351ce8ab button.colab-df-convert');\n",
              "        buttonEl.style.display =\n",
              "          google.colab.kernel.accessAllowed ? 'block' : 'none';\n",
              "\n",
              "        async function convertToInteractive(key) {\n",
              "          const element = document.querySelector('#df-f2ad3c70-49b2-4048-806e-8845351ce8ab');\n",
              "          const dataTable =\n",
              "            await google.colab.kernel.invokeFunction('convertToInteractive',\n",
              "                                                     [key], {});\n",
              "          if (!dataTable) return;\n",
              "\n",
              "          const docLinkHtml = 'Like what you see? Visit the ' +\n",
              "            '<a target=\"_blank\" href=https://colab.research.google.com/notebooks/data_table.ipynb>data table notebook</a>'\n",
              "            + ' to learn more about interactive tables.';\n",
              "          element.innerHTML = '';\n",
              "          dataTable['output_type'] = 'display_data';\n",
              "          await google.colab.output.renderOutput(dataTable, element);\n",
              "          const docLink = document.createElement('div');\n",
              "          docLink.innerHTML = docLinkHtml;\n",
              "          element.appendChild(docLink);\n",
              "        }\n",
              "      </script>\n",
              "    </div>\n",
              "  </div>\n",
              "  "
            ],
            "text/plain": [
              "    year  ranking  ...   band_singer                 url\n",
              "0   1992        1  ...   Boyz II Men   /wiki/Boyz_II_Men\n",
              "72  1992       73  ...   Paula Abdul   /wiki/Paula_Abdul\n",
              "71  1992       72  ...  Ugly Kid Joe  /wiki/Ugly_Kid_Joe\n",
              "70  1992       71  ...      The Cure      /wiki/The_Cure\n",
              "69  1992       70  ...   Bryan Adams   /wiki/Bryan_Adams\n",
              "\n",
              "[5 rows x 7 columns]"
            ]
          },
          "metadata": {},
          "execution_count": 253
        }
      ]
    },
    {
      "cell_type": "code",
      "execution_count": null,
      "metadata": {
        "colab": {
          "base_uri": "https://localhost:8080/"
        },
        "id": "GGKItj1nDXEP",
        "outputId": "0f098355-4037-4c68-8d8b-3a1a7091c3d4"
      },
      "outputs": [
        {
          "output_type": "stream",
          "name": "stdout",
          "text": [
            "Boyz II Men    3\n",
            "Name: band_singer, dtype: int64\n",
            "Color Me Badd    3\n",
            "Name: band_singer, dtype: int64\n",
            "Color Me Badd    3\n",
            "Name: band_singer, dtype: int64\n"
          ]
        }
      ],
      "source": [
        "# your code here \n",
        "most_occuring_1992 = billboardtop[\"band_singer\"][billboardtop[\"year\"]==1992].value_counts()\n",
        "print(most_occuring_1992[:1])\n",
        "most_occuring_1993 = billboardtop[\"band_singer\"][billboardtop[\"year\"]==1993].value_counts()\n",
        "print(most_occuring_1993[:1])\n",
        "most_occuring_2021 = billboardtop[\"band_singer\"][billboardtop[\"year\"]==2021].value_counts()\n",
        "print(most_occuring_2021[:1])"
      ]
    },
    {
      "cell_type": "markdown",
      "metadata": {
        "id": "Az31WRukDXEP"
      },
      "source": [
        "**Do you notice any major differences when you change the metric?**\n",
        "\n",
        "How have the singers at the top shifted places? Why do you think this is so?"
      ]
    },
    {
      "cell_type": "markdown",
      "metadata": {
        "id": "9PedKcgBDXEP"
      },
      "source": [
        "If we use take into account the year, then there is a change. It is possible because a band/ singer might be famous at a certain time and lost popularity later."
      ]
    },
    {
      "cell_type": "markdown",
      "metadata": {
        "id": "8M_iOmtQDXEQ"
      },
      "source": [
        "2.3 What is the age at which singers achieve their top ranking?"
      ]
    },
    {
      "cell_type": "code",
      "execution_count": null,
      "metadata": {
        "id": "SqIf1E4VDXEQ"
      },
      "outputs": [],
      "source": [
        "# your code here \n",
        "age = []\n",
        "born = finaldf[\"born\"].values\n",
        "year_now = finaldf[\"year\"].values\n",
        "for i in range(len(born)):\n",
        "  if born[i] != \"None\":\n",
        "    age.append(year_now[i] - (int(born[i].split(\"-\")[0])))"
      ]
    },
    {
      "cell_type": "code",
      "source": [
        "print(age)"
      ],
      "metadata": {
        "colab": {
          "base_uri": "https://localhost:8080/"
        },
        "id": "hwVAvXxyO5MH",
        "outputId": "cb8fd4f4-45f6-4866-e505-30ac1e6c9cfb"
      },
      "execution_count": null,
      "outputs": [
        {
          "output_type": "stream",
          "name": "stdout",
          "text": [
            "[1991, 1992, 2020, 1991, 1992, 2020, 1991, 1992, 2020, 1991, 1992, 2020, 1991, 1991, 1991, 1992, 1992, 1992, 2020, 2020, 2020, 1991, 1992, 2020, 1991, 1992, 2020, 1991, 1991, 1991, 1992, 1992, 1992, 2020, 2020, 2020, 1991, 1992, 2020, 1991, 1991, 1991, 1992, 1992, 1992, 2020, 2020, 2020, 1991, 1992, 2020, 1991, 1991, 1991, 1992, 1992, 1992, 2020, 2020, 2020, 1991, 1992, 2020, 1991, 1992, 2020, 1991, 1992, 2020, 1991, 1991, 1992, 1992, 2020, 2020, 1991, 1991, 1992, 1992, 2020, 2020, 1991, 1992, 2020, 1991, 1992, 2020, 1991, 1992, 2020, 1991, 1992, 2020, 1991, 1992, 2020, 1991, 1991, 1992, 1992, 2020, 2020, 1991, 1991, 1991, 1992, 1992, 1992, 2020, 2020, 2020, 1991, 1991, 1992, 1992, 2020, 2020, 1991, 1991, 1991, 1992, 1992, 1992, 2020, 2020, 2020, 1991, 1992, 2020, 1991, 1992, 2020, 1991, 1991, 1992, 1992, 2020, 2020, 1991, 1992, 2020, 1991, 1992, 2020, 1991, 1992, 2020, 1991, 1992, 2020, 1991, 1992, 2020, 1991, 1992, 2020]\n"
          ]
        }
      ]
    },
    {
      "cell_type": "code",
      "execution_count": null,
      "metadata": {
        "id": "btnhhIYzDXEQ",
        "colab": {
          "base_uri": "https://localhost:8080/",
          "height": 279
        },
        "outputId": "5c2be772-ac8f-4a35-cc21-2e0815ee41dc"
      },
      "outputs": [
        {
          "output_type": "display_data",
          "data": {
            "image/png": "[encoded data removed]",
            "text/plain": [
              "<Figure size 432x288 with 1 Axes>"
            ]
          },
          "metadata": {
            "needs_background": "light"
          }
        }
      ],
      "source": [
        "# your code here \n",
        "fig,ax = plt.subplots()\n",
        "ax.hist(age)\n",
        "ax.set_xlabel(\"ages\")\n",
        "ax.set_ylabel(\"count\")\n",
        "fig.show()"
      ]
    },
    {
      "cell_type": "code",
      "source": [
        "from statistics import mode\n",
        "print(f\"Age where singers/bands reach prime: {mode(age)}\")"
      ],
      "metadata": {
        "colab": {
          "base_uri": "https://localhost:8080/"
        },
        "id": "b4xCRof6PWkC",
        "outputId": "8c31d6ee-501e-46dc-b8c5-e038a2c7b10e"
      },
      "execution_count": null,
      "outputs": [
        {
          "output_type": "stream",
          "name": "stdout",
          "text": [
            "Age where singers/bands reach prime: 30\n"
          ]
        }
      ]
    },
    {
      "cell_type": "markdown",
      "metadata": {
        "id": "2IrJ8gHoDXEQ"
      },
      "source": [
        "**What do you infer from the last two questions?**"
      ]
    },
    {
      "cell_type": "markdown",
      "metadata": {
        "id": "ZKonF3oiDXEQ"
      },
      "source": [
        "It can be inferred that there is a certain age at which bands/ singers reach their prime."
      ]
    }
  ]
}